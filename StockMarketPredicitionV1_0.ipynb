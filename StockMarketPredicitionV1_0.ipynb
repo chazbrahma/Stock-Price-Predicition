{
  "cells": [
    {
      "cell_type": "code",
      "execution_count": 43,
      "metadata": {
        "id": "-MCi9IXwwiLF"
      },
      "outputs": [],
      "source": [
        "import pandas as pd\n",
        "import matplotlib.pyplot as plt\n",
        "import seaborn as sns\n",
        "import numpy as np\n",
        "from sklearn.model_selection import train_test_split\n",
        "from sklearn.ensemble import RandomForestRegressor, GradientBoostingRegressor\n",
        "from sklearn.linear_model import LinearRegression\n",
        "from sklearn.metrics import mean_squared_error, r2_score\n",
        "from sklearn.base import clone\n",
        "from sklearn.preprocessing import StandardScaler\n",
        "from sklearn.impute import SimpleImputer\n",
        "from sklearn.model_selection import cross_val_predict\n",
        "from sklearn.pipeline import Pipeline\n",
        "from sklearn.metrics import mean_absolute_error"
      ]
    },
    {
      "cell_type": "code",
      "execution_count": null,
      "metadata": {
        "colab": {
          "base_uri": "https://localhost:8080/",
          "height": 38
        },
        "id": "PvgO19dywy6I",
        "outputId": "c5221f12-3132-4411-f747-ab77d50e22e0"
      },
      "outputs": [
        {
          "output_type": "display_data",
          "data": {
            "text/plain": [
              "<IPython.core.display.HTML object>"
            ],
            "text/html": [
              "\n",
              "     <input type=\"file\" id=\"files-d4c1ad3b-8b83-4bb9-930d-5be47b927b19\" name=\"files[]\" multiple disabled\n",
              "        style=\"border:none\" />\n",
              "     <output id=\"result-d4c1ad3b-8b83-4bb9-930d-5be47b927b19\">\n",
              "      Upload widget is only available when the cell has been executed in the\n",
              "      current browser session. Please rerun this cell to enable.\n",
              "      </output>\n",
              "      <script>// Copyright 2017 Google LLC\n",
              "//\n",
              "// Licensed under the Apache License, Version 2.0 (the \"License\");\n",
              "// you may not use this file except in compliance with the License.\n",
              "// You may obtain a copy of the License at\n",
              "//\n",
              "//      http://www.apache.org/licenses/LICENSE-2.0\n",
              "//\n",
              "// Unless required by applicable law or agreed to in writing, software\n",
              "// distributed under the License is distributed on an \"AS IS\" BASIS,\n",
              "// WITHOUT WARRANTIES OR CONDITIONS OF ANY KIND, either express or implied.\n",
              "// See the License for the specific language governing permissions and\n",
              "// limitations under the License.\n",
              "\n",
              "/**\n",
              " * @fileoverview Helpers for google.colab Python module.\n",
              " */\n",
              "(function(scope) {\n",
              "function span(text, styleAttributes = {}) {\n",
              "  const element = document.createElement('span');\n",
              "  element.textContent = text;\n",
              "  for (const key of Object.keys(styleAttributes)) {\n",
              "    element.style[key] = styleAttributes[key];\n",
              "  }\n",
              "  return element;\n",
              "}\n",
              "\n",
              "// Max number of bytes which will be uploaded at a time.\n",
              "const MAX_PAYLOAD_SIZE = 100 * 1024;\n",
              "\n",
              "function _uploadFiles(inputId, outputId) {\n",
              "  const steps = uploadFilesStep(inputId, outputId);\n",
              "  const outputElement = document.getElementById(outputId);\n",
              "  // Cache steps on the outputElement to make it available for the next call\n",
              "  // to uploadFilesContinue from Python.\n",
              "  outputElement.steps = steps;\n",
              "\n",
              "  return _uploadFilesContinue(outputId);\n",
              "}\n",
              "\n",
              "// This is roughly an async generator (not supported in the browser yet),\n",
              "// where there are multiple asynchronous steps and the Python side is going\n",
              "// to poll for completion of each step.\n",
              "// This uses a Promise to block the python side on completion of each step,\n",
              "// then passes the result of the previous step as the input to the next step.\n",
              "function _uploadFilesContinue(outputId) {\n",
              "  const outputElement = document.getElementById(outputId);\n",
              "  const steps = outputElement.steps;\n",
              "\n",
              "  const next = steps.next(outputElement.lastPromiseValue);\n",
              "  return Promise.resolve(next.value.promise).then((value) => {\n",
              "    // Cache the last promise value to make it available to the next\n",
              "    // step of the generator.\n",
              "    outputElement.lastPromiseValue = value;\n",
              "    return next.value.response;\n",
              "  });\n",
              "}\n",
              "\n",
              "/**\n",
              " * Generator function which is called between each async step of the upload\n",
              " * process.\n",
              " * @param {string} inputId Element ID of the input file picker element.\n",
              " * @param {string} outputId Element ID of the output display.\n",
              " * @return {!Iterable<!Object>} Iterable of next steps.\n",
              " */\n",
              "function* uploadFilesStep(inputId, outputId) {\n",
              "  const inputElement = document.getElementById(inputId);\n",
              "  inputElement.disabled = false;\n",
              "\n",
              "  const outputElement = document.getElementById(outputId);\n",
              "  outputElement.innerHTML = '';\n",
              "\n",
              "  const pickedPromise = new Promise((resolve) => {\n",
              "    inputElement.addEventListener('change', (e) => {\n",
              "      resolve(e.target.files);\n",
              "    });\n",
              "  });\n",
              "\n",
              "  const cancel = document.createElement('button');\n",
              "  inputElement.parentElement.appendChild(cancel);\n",
              "  cancel.textContent = 'Cancel upload';\n",
              "  const cancelPromise = new Promise((resolve) => {\n",
              "    cancel.onclick = () => {\n",
              "      resolve(null);\n",
              "    };\n",
              "  });\n",
              "\n",
              "  // Wait for the user to pick the files.\n",
              "  const files = yield {\n",
              "    promise: Promise.race([pickedPromise, cancelPromise]),\n",
              "    response: {\n",
              "      action: 'starting',\n",
              "    }\n",
              "  };\n",
              "\n",
              "  cancel.remove();\n",
              "\n",
              "  // Disable the input element since further picks are not allowed.\n",
              "  inputElement.disabled = true;\n",
              "\n",
              "  if (!files) {\n",
              "    return {\n",
              "      response: {\n",
              "        action: 'complete',\n",
              "      }\n",
              "    };\n",
              "  }\n",
              "\n",
              "  for (const file of files) {\n",
              "    const li = document.createElement('li');\n",
              "    li.append(span(file.name, {fontWeight: 'bold'}));\n",
              "    li.append(span(\n",
              "        `(${file.type || 'n/a'}) - ${file.size} bytes, ` +\n",
              "        `last modified: ${\n",
              "            file.lastModifiedDate ? file.lastModifiedDate.toLocaleDateString() :\n",
              "                                    'n/a'} - `));\n",
              "    const percent = span('0% done');\n",
              "    li.appendChild(percent);\n",
              "\n",
              "    outputElement.appendChild(li);\n",
              "\n",
              "    const fileDataPromise = new Promise((resolve) => {\n",
              "      const reader = new FileReader();\n",
              "      reader.onload = (e) => {\n",
              "        resolve(e.target.result);\n",
              "      };\n",
              "      reader.readAsArrayBuffer(file);\n",
              "    });\n",
              "    // Wait for the data to be ready.\n",
              "    let fileData = yield {\n",
              "      promise: fileDataPromise,\n",
              "      response: {\n",
              "        action: 'continue',\n",
              "      }\n",
              "    };\n",
              "\n",
              "    // Use a chunked sending to avoid message size limits. See b/62115660.\n",
              "    let position = 0;\n",
              "    do {\n",
              "      const length = Math.min(fileData.byteLength - position, MAX_PAYLOAD_SIZE);\n",
              "      const chunk = new Uint8Array(fileData, position, length);\n",
              "      position += length;\n",
              "\n",
              "      const base64 = btoa(String.fromCharCode.apply(null, chunk));\n",
              "      yield {\n",
              "        response: {\n",
              "          action: 'append',\n",
              "          file: file.name,\n",
              "          data: base64,\n",
              "        },\n",
              "      };\n",
              "\n",
              "      let percentDone = fileData.byteLength === 0 ?\n",
              "          100 :\n",
              "          Math.round((position / fileData.byteLength) * 100);\n",
              "      percent.textContent = `${percentDone}% done`;\n",
              "\n",
              "    } while (position < fileData.byteLength);\n",
              "  }\n",
              "\n",
              "  // All done.\n",
              "  yield {\n",
              "    response: {\n",
              "      action: 'complete',\n",
              "    }\n",
              "  };\n",
              "}\n",
              "\n",
              "scope.google = scope.google || {};\n",
              "scope.google.colab = scope.google.colab || {};\n",
              "scope.google.colab._files = {\n",
              "  _uploadFiles,\n",
              "  _uploadFilesContinue,\n",
              "};\n",
              "})(self);\n",
              "</script> "
            ]
          },
          "metadata": {}
        }
      ],
      "source": [
        "from google.colab import files\n",
        "files.upload()"
      ]
    },
    {
      "cell_type": "code",
      "execution_count": null,
      "metadata": {
        "id": "tbRISuc7r73T"
      },
      "outputs": [],
      "source": [
        "df = pd.read_csv('NDAQ_data.csv')"
      ]
    },
    {
      "cell_type": "code",
      "execution_count": null,
      "metadata": {
        "colab": {
          "base_uri": "https://localhost:8080/",
          "height": 206
        },
        "id": "lpDa9BOKs9HY",
        "outputId": "a364cb1c-162e-424c-d46b-2deca38d74bb"
      },
      "outputs": [
        {
          "data": {
            "application/vnd.google.colaboratory.intrinsic+json": {
              "summary": "{\n  \"name\": \"df\",\n  \"rows\": 1259,\n  \"fields\": [\n    {\n      \"column\": \"date\",\n      \"properties\": {\n        \"dtype\": \"object\",\n        \"num_unique_values\": 1259,\n        \"samples\": [\n          \"2013-05-30\",\n          \"2017-03-08\",\n          \"2013-04-12\"\n        ],\n        \"semantic_type\": \"\",\n        \"description\": \"\"\n      }\n    },\n    {\n      \"column\": \"open\",\n      \"properties\": {\n        \"dtype\": \"number\",\n        \"std\": 15.330522081347308,\n        \"min\": 27.93,\n        \"max\": 82.05,\n        \"num_unique_values\": 1070,\n        \"samples\": [\n          61.46,\n          56.66,\n          31.21\n        ],\n        \"semantic_type\": \"\",\n        \"description\": \"\"\n      }\n    },\n    {\n      \"column\": \"high\",\n      \"properties\": {\n        \"dtype\": \"number\",\n        \"std\": 15.388826924191651,\n        \"min\": 28.11,\n        \"max\": 83.29,\n        \"num_unique_values\": 1114,\n        \"samples\": [\n          68.45,\n          34.21,\n          80.98\n        ],\n        \"semantic_type\": \"\",\n        \"description\": \"\"\n      }\n    },\n    {\n      \"column\": \"low\",\n      \"properties\": {\n        \"dtype\": \"number\",\n        \"std\": 15.253870330677154,\n        \"min\": 27.47,\n        \"max\": 81.37,\n        \"num_unique_values\": 1115,\n        \"samples\": [\n          34.27,\n          34.06,\n          72.63\n        ],\n        \"semantic_type\": \"\",\n        \"description\": \"\"\n      }\n    },\n    {\n      \"column\": \"close\",\n      \"properties\": {\n        \"dtype\": \"number\",\n        \"std\": 15.323778179532127,\n        \"min\": 27.91,\n        \"max\": 81.85,\n        \"num_unique_values\": 1091,\n        \"samples\": [\n          68.01,\n          67.42,\n          81.85\n        ],\n        \"semantic_type\": \"\",\n        \"description\": \"\"\n      }\n    },\n    {\n      \"column\": \"volume\",\n      \"properties\": {\n        \"dtype\": \"number\",\n        \"std\": 678318,\n        \"min\": 218033,\n        \"max\": 11443079,\n        \"num_unique_values\": 1258,\n        \"samples\": [\n          712633,\n          734699,\n          2220475\n        ],\n        \"semantic_type\": \"\",\n        \"description\": \"\"\n      }\n    },\n    {\n      \"column\": \"Name\",\n      \"properties\": {\n        \"dtype\": \"category\",\n        \"num_unique_values\": 1,\n        \"samples\": [\n          \"NDAQ\"\n        ],\n        \"semantic_type\": \"\",\n        \"description\": \"\"\n      }\n    }\n  ]\n}",
              "type": "dataframe",
              "variable_name": "df"
            },
            "text/html": [
              "\n",
              "  <div id=\"df-893aa966-770b-427e-9b3f-7f4a39386c94\" class=\"colab-df-container\">\n",
              "    <div>\n",
              "<style scoped>\n",
              "    .dataframe tbody tr th:only-of-type {\n",
              "        vertical-align: middle;\n",
              "    }\n",
              "\n",
              "    .dataframe tbody tr th {\n",
              "        vertical-align: top;\n",
              "    }\n",
              "\n",
              "    .dataframe thead th {\n",
              "        text-align: right;\n",
              "    }\n",
              "</style>\n",
              "<table border=\"1\" class=\"dataframe\">\n",
              "  <thead>\n",
              "    <tr style=\"text-align: right;\">\n",
              "      <th></th>\n",
              "      <th>date</th>\n",
              "      <th>open</th>\n",
              "      <th>high</th>\n",
              "      <th>low</th>\n",
              "      <th>close</th>\n",
              "      <th>volume</th>\n",
              "      <th>Name</th>\n",
              "    </tr>\n",
              "  </thead>\n",
              "  <tbody>\n",
              "    <tr>\n",
              "      <th>0</th>\n",
              "      <td>2013-02-08</td>\n",
              "      <td>29.40</td>\n",
              "      <td>29.4900</td>\n",
              "      <td>29.142</td>\n",
              "      <td>29.47</td>\n",
              "      <td>863756</td>\n",
              "      <td>NDAQ</td>\n",
              "    </tr>\n",
              "    <tr>\n",
              "      <th>1</th>\n",
              "      <td>2013-02-11</td>\n",
              "      <td>29.49</td>\n",
              "      <td>32.1499</td>\n",
              "      <td>29.320</td>\n",
              "      <td>30.38</td>\n",
              "      <td>6707438</td>\n",
              "      <td>NDAQ</td>\n",
              "    </tr>\n",
              "    <tr>\n",
              "      <th>2</th>\n",
              "      <td>2013-02-12</td>\n",
              "      <td>31.33</td>\n",
              "      <td>31.6500</td>\n",
              "      <td>29.930</td>\n",
              "      <td>30.55</td>\n",
              "      <td>3384949</td>\n",
              "      <td>NDAQ</td>\n",
              "    </tr>\n",
              "    <tr>\n",
              "      <th>3</th>\n",
              "      <td>2013-02-13</td>\n",
              "      <td>30.44</td>\n",
              "      <td>31.7000</td>\n",
              "      <td>30.440</td>\n",
              "      <td>31.65</td>\n",
              "      <td>3210667</td>\n",
              "      <td>NDAQ</td>\n",
              "    </tr>\n",
              "    <tr>\n",
              "      <th>4</th>\n",
              "      <td>2013-02-14</td>\n",
              "      <td>31.51</td>\n",
              "      <td>31.5100</td>\n",
              "      <td>30.410</td>\n",
              "      <td>30.60</td>\n",
              "      <td>5653021</td>\n",
              "      <td>NDAQ</td>\n",
              "    </tr>\n",
              "  </tbody>\n",
              "</table>\n",
              "</div>\n",
              "    <div class=\"colab-df-buttons\">\n",
              "\n",
              "  <div class=\"colab-df-container\">\n",
              "    <button class=\"colab-df-convert\" onclick=\"convertToInteractive('df-893aa966-770b-427e-9b3f-7f4a39386c94')\"\n",
              "            title=\"Convert this dataframe to an interactive table.\"\n",
              "            style=\"display:none;\">\n",
              "\n",
              "  <svg xmlns=\"http://www.w3.org/2000/svg\" height=\"24px\" viewBox=\"0 -960 960 960\">\n",
              "    <path d=\"M120-120v-720h720v720H120Zm60-500h600v-160H180v160Zm220 220h160v-160H400v160Zm0 220h160v-160H400v160ZM180-400h160v-160H180v160Zm440 0h160v-160H620v160ZM180-180h160v-160H180v160Zm440 0h160v-160H620v160Z\"/>\n",
              "  </svg>\n",
              "    </button>\n",
              "\n",
              "  <style>\n",
              "    .colab-df-container {\n",
              "      display:flex;\n",
              "      gap: 12px;\n",
              "    }\n",
              "\n",
              "    .colab-df-convert {\n",
              "      background-color: #E8F0FE;\n",
              "      border: none;\n",
              "      border-radius: 50%;\n",
              "      cursor: pointer;\n",
              "      display: none;\n",
              "      fill: #1967D2;\n",
              "      height: 32px;\n",
              "      padding: 0 0 0 0;\n",
              "      width: 32px;\n",
              "    }\n",
              "\n",
              "    .colab-df-convert:hover {\n",
              "      background-color: #E2EBFA;\n",
              "      box-shadow: 0px 1px 2px rgba(60, 64, 67, 0.3), 0px 1px 3px 1px rgba(60, 64, 67, 0.15);\n",
              "      fill: #174EA6;\n",
              "    }\n",
              "\n",
              "    .colab-df-buttons div {\n",
              "      margin-bottom: 4px;\n",
              "    }\n",
              "\n",
              "    [theme=dark] .colab-df-convert {\n",
              "      background-color: #3B4455;\n",
              "      fill: #D2E3FC;\n",
              "    }\n",
              "\n",
              "    [theme=dark] .colab-df-convert:hover {\n",
              "      background-color: #434B5C;\n",
              "      box-shadow: 0px 1px 3px 1px rgba(0, 0, 0, 0.15);\n",
              "      filter: drop-shadow(0px 1px 2px rgba(0, 0, 0, 0.3));\n",
              "      fill: #FFFFFF;\n",
              "    }\n",
              "  </style>\n",
              "\n",
              "    <script>\n",
              "      const buttonEl =\n",
              "        document.querySelector('#df-893aa966-770b-427e-9b3f-7f4a39386c94 button.colab-df-convert');\n",
              "      buttonEl.style.display =\n",
              "        google.colab.kernel.accessAllowed ? 'block' : 'none';\n",
              "\n",
              "      async function convertToInteractive(key) {\n",
              "        const element = document.querySelector('#df-893aa966-770b-427e-9b3f-7f4a39386c94');\n",
              "        const dataTable =\n",
              "          await google.colab.kernel.invokeFunction('convertToInteractive',\n",
              "                                                    [key], {});\n",
              "        if (!dataTable) return;\n",
              "\n",
              "        const docLinkHtml = 'Like what you see? Visit the ' +\n",
              "          '<a target=\"_blank\" href=https://colab.research.google.com/notebooks/data_table.ipynb>data table notebook</a>'\n",
              "          + ' to learn more about interactive tables.';\n",
              "        element.innerHTML = '';\n",
              "        dataTable['output_type'] = 'display_data';\n",
              "        await google.colab.output.renderOutput(dataTable, element);\n",
              "        const docLink = document.createElement('div');\n",
              "        docLink.innerHTML = docLinkHtml;\n",
              "        element.appendChild(docLink);\n",
              "      }\n",
              "    </script>\n",
              "  </div>\n",
              "\n",
              "\n",
              "<div id=\"df-d28efc85-61c6-4a32-b402-37ef00e7a28c\">\n",
              "  <button class=\"colab-df-quickchart\" onclick=\"quickchart('df-d28efc85-61c6-4a32-b402-37ef00e7a28c')\"\n",
              "            title=\"Suggest charts\"\n",
              "            style=\"display:none;\">\n",
              "\n",
              "<svg xmlns=\"http://www.w3.org/2000/svg\" height=\"24px\"viewBox=\"0 0 24 24\"\n",
              "     width=\"24px\">\n",
              "    <g>\n",
              "        <path d=\"M19 3H5c-1.1 0-2 .9-2 2v14c0 1.1.9 2 2 2h14c1.1 0 2-.9 2-2V5c0-1.1-.9-2-2-2zM9 17H7v-7h2v7zm4 0h-2V7h2v10zm4 0h-2v-4h2v4z\"/>\n",
              "    </g>\n",
              "</svg>\n",
              "  </button>\n",
              "\n",
              "<style>\n",
              "  .colab-df-quickchart {\n",
              "      --bg-color: #E8F0FE;\n",
              "      --fill-color: #1967D2;\n",
              "      --hover-bg-color: #E2EBFA;\n",
              "      --hover-fill-color: #174EA6;\n",
              "      --disabled-fill-color: #AAA;\n",
              "      --disabled-bg-color: #DDD;\n",
              "  }\n",
              "\n",
              "  [theme=dark] .colab-df-quickchart {\n",
              "      --bg-color: #3B4455;\n",
              "      --fill-color: #D2E3FC;\n",
              "      --hover-bg-color: #434B5C;\n",
              "      --hover-fill-color: #FFFFFF;\n",
              "      --disabled-bg-color: #3B4455;\n",
              "      --disabled-fill-color: #666;\n",
              "  }\n",
              "\n",
              "  .colab-df-quickchart {\n",
              "    background-color: var(--bg-color);\n",
              "    border: none;\n",
              "    border-radius: 50%;\n",
              "    cursor: pointer;\n",
              "    display: none;\n",
              "    fill: var(--fill-color);\n",
              "    height: 32px;\n",
              "    padding: 0;\n",
              "    width: 32px;\n",
              "  }\n",
              "\n",
              "  .colab-df-quickchart:hover {\n",
              "    background-color: var(--hover-bg-color);\n",
              "    box-shadow: 0 1px 2px rgba(60, 64, 67, 0.3), 0 1px 3px 1px rgba(60, 64, 67, 0.15);\n",
              "    fill: var(--button-hover-fill-color);\n",
              "  }\n",
              "\n",
              "  .colab-df-quickchart-complete:disabled,\n",
              "  .colab-df-quickchart-complete:disabled:hover {\n",
              "    background-color: var(--disabled-bg-color);\n",
              "    fill: var(--disabled-fill-color);\n",
              "    box-shadow: none;\n",
              "  }\n",
              "\n",
              "  .colab-df-spinner {\n",
              "    border: 2px solid var(--fill-color);\n",
              "    border-color: transparent;\n",
              "    border-bottom-color: var(--fill-color);\n",
              "    animation:\n",
              "      spin 1s steps(1) infinite;\n",
              "  }\n",
              "\n",
              "  @keyframes spin {\n",
              "    0% {\n",
              "      border-color: transparent;\n",
              "      border-bottom-color: var(--fill-color);\n",
              "      border-left-color: var(--fill-color);\n",
              "    }\n",
              "    20% {\n",
              "      border-color: transparent;\n",
              "      border-left-color: var(--fill-color);\n",
              "      border-top-color: var(--fill-color);\n",
              "    }\n",
              "    30% {\n",
              "      border-color: transparent;\n",
              "      border-left-color: var(--fill-color);\n",
              "      border-top-color: var(--fill-color);\n",
              "      border-right-color: var(--fill-color);\n",
              "    }\n",
              "    40% {\n",
              "      border-color: transparent;\n",
              "      border-right-color: var(--fill-color);\n",
              "      border-top-color: var(--fill-color);\n",
              "    }\n",
              "    60% {\n",
              "      border-color: transparent;\n",
              "      border-right-color: var(--fill-color);\n",
              "    }\n",
              "    80% {\n",
              "      border-color: transparent;\n",
              "      border-right-color: var(--fill-color);\n",
              "      border-bottom-color: var(--fill-color);\n",
              "    }\n",
              "    90% {\n",
              "      border-color: transparent;\n",
              "      border-bottom-color: var(--fill-color);\n",
              "    }\n",
              "  }\n",
              "</style>\n",
              "\n",
              "  <script>\n",
              "    async function quickchart(key) {\n",
              "      const quickchartButtonEl =\n",
              "        document.querySelector('#' + key + ' button');\n",
              "      quickchartButtonEl.disabled = true;  // To prevent multiple clicks.\n",
              "      quickchartButtonEl.classList.add('colab-df-spinner');\n",
              "      try {\n",
              "        const charts = await google.colab.kernel.invokeFunction(\n",
              "            'suggestCharts', [key], {});\n",
              "      } catch (error) {\n",
              "        console.error('Error during call to suggestCharts:', error);\n",
              "      }\n",
              "      quickchartButtonEl.classList.remove('colab-df-spinner');\n",
              "      quickchartButtonEl.classList.add('colab-df-quickchart-complete');\n",
              "    }\n",
              "    (() => {\n",
              "      let quickchartButtonEl =\n",
              "        document.querySelector('#df-d28efc85-61c6-4a32-b402-37ef00e7a28c button');\n",
              "      quickchartButtonEl.style.display =\n",
              "        google.colab.kernel.accessAllowed ? 'block' : 'none';\n",
              "    })();\n",
              "  </script>\n",
              "</div>\n",
              "\n",
              "    </div>\n",
              "  </div>\n"
            ],
            "text/plain": [
              "         date   open     high     low  close   volume  Name\n",
              "0  2013-02-08  29.40  29.4900  29.142  29.47   863756  NDAQ\n",
              "1  2013-02-11  29.49  32.1499  29.320  30.38  6707438  NDAQ\n",
              "2  2013-02-12  31.33  31.6500  29.930  30.55  3384949  NDAQ\n",
              "3  2013-02-13  30.44  31.7000  30.440  31.65  3210667  NDAQ\n",
              "4  2013-02-14  31.51  31.5100  30.410  30.60  5653021  NDAQ"
            ]
          },
          "execution_count": 11,
          "metadata": {},
          "output_type": "execute_result"
        }
      ],
      "source": [
        "df.head()"
      ]
    },
    {
      "cell_type": "code",
      "execution_count": null,
      "metadata": {
        "colab": {
          "base_uri": "https://localhost:8080/"
        },
        "id": "XZ0xQAOHs_ur",
        "outputId": "8abb9598-feaa-42fe-e0f9-3cad32910e1d"
      },
      "outputs": [
        {
          "name": "stdout",
          "output_type": "stream",
          "text": [
            "<class 'pandas.core.frame.DataFrame'>\n",
            "RangeIndex: 1259 entries, 0 to 1258\n",
            "Data columns (total 7 columns):\n",
            " #   Column  Non-Null Count  Dtype  \n",
            "---  ------  --------------  -----  \n",
            " 0   date    1259 non-null   object \n",
            " 1   open    1259 non-null   float64\n",
            " 2   high    1259 non-null   float64\n",
            " 3   low     1259 non-null   float64\n",
            " 4   close   1259 non-null   float64\n",
            " 5   volume  1259 non-null   int64  \n",
            " 6   Name    1259 non-null   object \n",
            "dtypes: float64(4), int64(1), object(2)\n",
            "memory usage: 69.0+ KB\n"
          ]
        }
      ],
      "source": [
        "df.info()"
      ]
    },
    {
      "cell_type": "code",
      "execution_count": null,
      "metadata": {
        "colab": {
          "base_uri": "https://localhost:8080/",
          "height": 300
        },
        "id": "tWB-lHSZtByG",
        "outputId": "b02b9d66-d7d0-4b30-8ce0-3726388d181b"
      },
      "outputs": [
        {
          "data": {
            "application/vnd.google.colaboratory.intrinsic+json": {
              "summary": "{\n  \"name\": \"df\",\n  \"rows\": 8,\n  \"fields\": [\n    {\n      \"column\": \"open\",\n      \"properties\": {\n        \"dtype\": \"number\",\n        \"std\": 428.6099077866295,\n        \"min\": 15.330522081347308,\n        \"max\": 1259.0,\n        \"num_unique_values\": 8,\n        \"samples\": [\n          53.50127084988086,\n          51.62,\n          1259.0\n        ],\n        \"semantic_type\": \"\",\n        \"description\": \"\"\n      }\n    },\n    {\n      \"column\": \"high\",\n      \"properties\": {\n        \"dtype\": \"number\",\n        \"std\": 428.46858591152466,\n        \"min\": 15.388826924191651,\n        \"max\": 1259.0,\n        \"num_unique_values\": 8,\n        \"samples\": [\n          53.96081596505163,\n          51.94,\n          1259.0\n        ],\n        \"semantic_type\": \"\",\n        \"description\": \"\"\n      }\n    },\n    {\n      \"column\": \"low\",\n      \"properties\": {\n        \"dtype\": \"number\",\n        \"std\": 428.7570474994822,\n        \"min\": 15.253870330677154,\n        \"max\": 1259.0,\n        \"num_unique_values\": 8,\n        \"samples\": [\n          53.069671008737096,\n          51.14,\n          1259.0\n        ],\n        \"semantic_type\": \"\",\n        \"description\": \"\"\n      }\n    },\n    {\n      \"column\": \"close\",\n      \"properties\": {\n        \"dtype\": \"number\",\n        \"std\": 428.61499107243975,\n        \"min\": 15.323778179532127,\n        \"max\": 1259.0,\n        \"num_unique_values\": 8,\n        \"samples\": [\n          53.5408379666402,\n          51.73,\n          1259.0\n        ],\n        \"semantic_type\": \"\",\n        \"description\": \"\"\n      }\n    },\n    {\n      \"column\": \"volume\",\n      \"properties\": {\n        \"dtype\": \"number\",\n        \"std\": 3816103.7928416696,\n        \"min\": 1259.0,\n        \"max\": 11443079.0,\n        \"num_unique_values\": 8,\n        \"samples\": [\n          1121027.321683876,\n          973816.0,\n          1259.0\n        ],\n        \"semantic_type\": \"\",\n        \"description\": \"\"\n      }\n    }\n  ]\n}",
              "type": "dataframe"
            },
            "text/html": [
              "\n",
              "  <div id=\"df-4b615b24-beee-4e45-b4c0-2725ef9bcac2\" class=\"colab-df-container\">\n",
              "    <div>\n",
              "<style scoped>\n",
              "    .dataframe tbody tr th:only-of-type {\n",
              "        vertical-align: middle;\n",
              "    }\n",
              "\n",
              "    .dataframe tbody tr th {\n",
              "        vertical-align: top;\n",
              "    }\n",
              "\n",
              "    .dataframe thead th {\n",
              "        text-align: right;\n",
              "    }\n",
              "</style>\n",
              "<table border=\"1\" class=\"dataframe\">\n",
              "  <thead>\n",
              "    <tr style=\"text-align: right;\">\n",
              "      <th></th>\n",
              "      <th>open</th>\n",
              "      <th>high</th>\n",
              "      <th>low</th>\n",
              "      <th>close</th>\n",
              "      <th>volume</th>\n",
              "    </tr>\n",
              "  </thead>\n",
              "  <tbody>\n",
              "    <tr>\n",
              "      <th>count</th>\n",
              "      <td>1259.000000</td>\n",
              "      <td>1259.000000</td>\n",
              "      <td>1259.000000</td>\n",
              "      <td>1259.000000</td>\n",
              "      <td>1.259000e+03</td>\n",
              "    </tr>\n",
              "    <tr>\n",
              "      <th>mean</th>\n",
              "      <td>53.501271</td>\n",
              "      <td>53.960816</td>\n",
              "      <td>53.069671</td>\n",
              "      <td>53.540838</td>\n",
              "      <td>1.121027e+06</td>\n",
              "    </tr>\n",
              "    <tr>\n",
              "      <th>std</th>\n",
              "      <td>15.330522</td>\n",
              "      <td>15.388827</td>\n",
              "      <td>15.253870</td>\n",
              "      <td>15.323778</td>\n",
              "      <td>6.783181e+05</td>\n",
              "    </tr>\n",
              "    <tr>\n",
              "      <th>min</th>\n",
              "      <td>27.930000</td>\n",
              "      <td>28.110000</td>\n",
              "      <td>27.470000</td>\n",
              "      <td>27.910000</td>\n",
              "      <td>2.180330e+05</td>\n",
              "    </tr>\n",
              "    <tr>\n",
              "      <th>25%</th>\n",
              "      <td>39.240000</td>\n",
              "      <td>39.645000</td>\n",
              "      <td>38.735000</td>\n",
              "      <td>39.175000</td>\n",
              "      <td>7.351005e+05</td>\n",
              "    </tr>\n",
              "    <tr>\n",
              "      <th>50%</th>\n",
              "      <td>51.620000</td>\n",
              "      <td>51.940000</td>\n",
              "      <td>51.140000</td>\n",
              "      <td>51.730000</td>\n",
              "      <td>9.738160e+05</td>\n",
              "    </tr>\n",
              "    <tr>\n",
              "      <th>75%</th>\n",
              "      <td>67.635000</td>\n",
              "      <td>68.073000</td>\n",
              "      <td>67.230000</td>\n",
              "      <td>67.645000</td>\n",
              "      <td>1.325648e+06</td>\n",
              "    </tr>\n",
              "    <tr>\n",
              "      <th>max</th>\n",
              "      <td>82.050000</td>\n",
              "      <td>83.290000</td>\n",
              "      <td>81.370000</td>\n",
              "      <td>81.850000</td>\n",
              "      <td>1.144308e+07</td>\n",
              "    </tr>\n",
              "  </tbody>\n",
              "</table>\n",
              "</div>\n",
              "    <div class=\"colab-df-buttons\">\n",
              "\n",
              "  <div class=\"colab-df-container\">\n",
              "    <button class=\"colab-df-convert\" onclick=\"convertToInteractive('df-4b615b24-beee-4e45-b4c0-2725ef9bcac2')\"\n",
              "            title=\"Convert this dataframe to an interactive table.\"\n",
              "            style=\"display:none;\">\n",
              "\n",
              "  <svg xmlns=\"http://www.w3.org/2000/svg\" height=\"24px\" viewBox=\"0 -960 960 960\">\n",
              "    <path d=\"M120-120v-720h720v720H120Zm60-500h600v-160H180v160Zm220 220h160v-160H400v160Zm0 220h160v-160H400v160ZM180-400h160v-160H180v160Zm440 0h160v-160H620v160ZM180-180h160v-160H180v160Zm440 0h160v-160H620v160Z\"/>\n",
              "  </svg>\n",
              "    </button>\n",
              "\n",
              "  <style>\n",
              "    .colab-df-container {\n",
              "      display:flex;\n",
              "      gap: 12px;\n",
              "    }\n",
              "\n",
              "    .colab-df-convert {\n",
              "      background-color: #E8F0FE;\n",
              "      border: none;\n",
              "      border-radius: 50%;\n",
              "      cursor: pointer;\n",
              "      display: none;\n",
              "      fill: #1967D2;\n",
              "      height: 32px;\n",
              "      padding: 0 0 0 0;\n",
              "      width: 32px;\n",
              "    }\n",
              "\n",
              "    .colab-df-convert:hover {\n",
              "      background-color: #E2EBFA;\n",
              "      box-shadow: 0px 1px 2px rgba(60, 64, 67, 0.3), 0px 1px 3px 1px rgba(60, 64, 67, 0.15);\n",
              "      fill: #174EA6;\n",
              "    }\n",
              "\n",
              "    .colab-df-buttons div {\n",
              "      margin-bottom: 4px;\n",
              "    }\n",
              "\n",
              "    [theme=dark] .colab-df-convert {\n",
              "      background-color: #3B4455;\n",
              "      fill: #D2E3FC;\n",
              "    }\n",
              "\n",
              "    [theme=dark] .colab-df-convert:hover {\n",
              "      background-color: #434B5C;\n",
              "      box-shadow: 0px 1px 3px 1px rgba(0, 0, 0, 0.15);\n",
              "      filter: drop-shadow(0px 1px 2px rgba(0, 0, 0, 0.3));\n",
              "      fill: #FFFFFF;\n",
              "    }\n",
              "  </style>\n",
              "\n",
              "    <script>\n",
              "      const buttonEl =\n",
              "        document.querySelector('#df-4b615b24-beee-4e45-b4c0-2725ef9bcac2 button.colab-df-convert');\n",
              "      buttonEl.style.display =\n",
              "        google.colab.kernel.accessAllowed ? 'block' : 'none';\n",
              "\n",
              "      async function convertToInteractive(key) {\n",
              "        const element = document.querySelector('#df-4b615b24-beee-4e45-b4c0-2725ef9bcac2');\n",
              "        const dataTable =\n",
              "          await google.colab.kernel.invokeFunction('convertToInteractive',\n",
              "                                                    [key], {});\n",
              "        if (!dataTable) return;\n",
              "\n",
              "        const docLinkHtml = 'Like what you see? Visit the ' +\n",
              "          '<a target=\"_blank\" href=https://colab.research.google.com/notebooks/data_table.ipynb>data table notebook</a>'\n",
              "          + ' to learn more about interactive tables.';\n",
              "        element.innerHTML = '';\n",
              "        dataTable['output_type'] = 'display_data';\n",
              "        await google.colab.output.renderOutput(dataTable, element);\n",
              "        const docLink = document.createElement('div');\n",
              "        docLink.innerHTML = docLinkHtml;\n",
              "        element.appendChild(docLink);\n",
              "      }\n",
              "    </script>\n",
              "  </div>\n",
              "\n",
              "\n",
              "<div id=\"df-3e33d127-8ee2-41c1-807d-8ce89dfd0182\">\n",
              "  <button class=\"colab-df-quickchart\" onclick=\"quickchart('df-3e33d127-8ee2-41c1-807d-8ce89dfd0182')\"\n",
              "            title=\"Suggest charts\"\n",
              "            style=\"display:none;\">\n",
              "\n",
              "<svg xmlns=\"http://www.w3.org/2000/svg\" height=\"24px\"viewBox=\"0 0 24 24\"\n",
              "     width=\"24px\">\n",
              "    <g>\n",
              "        <path d=\"M19 3H5c-1.1 0-2 .9-2 2v14c0 1.1.9 2 2 2h14c1.1 0 2-.9 2-2V5c0-1.1-.9-2-2-2zM9 17H7v-7h2v7zm4 0h-2V7h2v10zm4 0h-2v-4h2v4z\"/>\n",
              "    </g>\n",
              "</svg>\n",
              "  </button>\n",
              "\n",
              "<style>\n",
              "  .colab-df-quickchart {\n",
              "      --bg-color: #E8F0FE;\n",
              "      --fill-color: #1967D2;\n",
              "      --hover-bg-color: #E2EBFA;\n",
              "      --hover-fill-color: #174EA6;\n",
              "      --disabled-fill-color: #AAA;\n",
              "      --disabled-bg-color: #DDD;\n",
              "  }\n",
              "\n",
              "  [theme=dark] .colab-df-quickchart {\n",
              "      --bg-color: #3B4455;\n",
              "      --fill-color: #D2E3FC;\n",
              "      --hover-bg-color: #434B5C;\n",
              "      --hover-fill-color: #FFFFFF;\n",
              "      --disabled-bg-color: #3B4455;\n",
              "      --disabled-fill-color: #666;\n",
              "  }\n",
              "\n",
              "  .colab-df-quickchart {\n",
              "    background-color: var(--bg-color);\n",
              "    border: none;\n",
              "    border-radius: 50%;\n",
              "    cursor: pointer;\n",
              "    display: none;\n",
              "    fill: var(--fill-color);\n",
              "    height: 32px;\n",
              "    padding: 0;\n",
              "    width: 32px;\n",
              "  }\n",
              "\n",
              "  .colab-df-quickchart:hover {\n",
              "    background-color: var(--hover-bg-color);\n",
              "    box-shadow: 0 1px 2px rgba(60, 64, 67, 0.3), 0 1px 3px 1px rgba(60, 64, 67, 0.15);\n",
              "    fill: var(--button-hover-fill-color);\n",
              "  }\n",
              "\n",
              "  .colab-df-quickchart-complete:disabled,\n",
              "  .colab-df-quickchart-complete:disabled:hover {\n",
              "    background-color: var(--disabled-bg-color);\n",
              "    fill: var(--disabled-fill-color);\n",
              "    box-shadow: none;\n",
              "  }\n",
              "\n",
              "  .colab-df-spinner {\n",
              "    border: 2px solid var(--fill-color);\n",
              "    border-color: transparent;\n",
              "    border-bottom-color: var(--fill-color);\n",
              "    animation:\n",
              "      spin 1s steps(1) infinite;\n",
              "  }\n",
              "\n",
              "  @keyframes spin {\n",
              "    0% {\n",
              "      border-color: transparent;\n",
              "      border-bottom-color: var(--fill-color);\n",
              "      border-left-color: var(--fill-color);\n",
              "    }\n",
              "    20% {\n",
              "      border-color: transparent;\n",
              "      border-left-color: var(--fill-color);\n",
              "      border-top-color: var(--fill-color);\n",
              "    }\n",
              "    30% {\n",
              "      border-color: transparent;\n",
              "      border-left-color: var(--fill-color);\n",
              "      border-top-color: var(--fill-color);\n",
              "      border-right-color: var(--fill-color);\n",
              "    }\n",
              "    40% {\n",
              "      border-color: transparent;\n",
              "      border-right-color: var(--fill-color);\n",
              "      border-top-color: var(--fill-color);\n",
              "    }\n",
              "    60% {\n",
              "      border-color: transparent;\n",
              "      border-right-color: var(--fill-color);\n",
              "    }\n",
              "    80% {\n",
              "      border-color: transparent;\n",
              "      border-right-color: var(--fill-color);\n",
              "      border-bottom-color: var(--fill-color);\n",
              "    }\n",
              "    90% {\n",
              "      border-color: transparent;\n",
              "      border-bottom-color: var(--fill-color);\n",
              "    }\n",
              "  }\n",
              "</style>\n",
              "\n",
              "  <script>\n",
              "    async function quickchart(key) {\n",
              "      const quickchartButtonEl =\n",
              "        document.querySelector('#' + key + ' button');\n",
              "      quickchartButtonEl.disabled = true;  // To prevent multiple clicks.\n",
              "      quickchartButtonEl.classList.add('colab-df-spinner');\n",
              "      try {\n",
              "        const charts = await google.colab.kernel.invokeFunction(\n",
              "            'suggestCharts', [key], {});\n",
              "      } catch (error) {\n",
              "        console.error('Error during call to suggestCharts:', error);\n",
              "      }\n",
              "      quickchartButtonEl.classList.remove('colab-df-spinner');\n",
              "      quickchartButtonEl.classList.add('colab-df-quickchart-complete');\n",
              "    }\n",
              "    (() => {\n",
              "      let quickchartButtonEl =\n",
              "        document.querySelector('#df-3e33d127-8ee2-41c1-807d-8ce89dfd0182 button');\n",
              "      quickchartButtonEl.style.display =\n",
              "        google.colab.kernel.accessAllowed ? 'block' : 'none';\n",
              "    })();\n",
              "  </script>\n",
              "</div>\n",
              "\n",
              "    </div>\n",
              "  </div>\n"
            ],
            "text/plain": [
              "              open         high          low        close        volume\n",
              "count  1259.000000  1259.000000  1259.000000  1259.000000  1.259000e+03\n",
              "mean     53.501271    53.960816    53.069671    53.540838  1.121027e+06\n",
              "std      15.330522    15.388827    15.253870    15.323778  6.783181e+05\n",
              "min      27.930000    28.110000    27.470000    27.910000  2.180330e+05\n",
              "25%      39.240000    39.645000    38.735000    39.175000  7.351005e+05\n",
              "50%      51.620000    51.940000    51.140000    51.730000  9.738160e+05\n",
              "75%      67.635000    68.073000    67.230000    67.645000  1.325648e+06\n",
              "max      82.050000    83.290000    81.370000    81.850000  1.144308e+07"
            ]
          },
          "execution_count": 13,
          "metadata": {},
          "output_type": "execute_result"
        }
      ],
      "source": [
        "df.describe()"
      ]
    },
    {
      "cell_type": "code",
      "execution_count": null,
      "metadata": {
        "colab": {
          "base_uri": "https://localhost:8080/"
        },
        "id": "9BGO7ZV3tFph",
        "outputId": "1515151a-a63b-49ba-d9e9-16a08fafd9d0"
      },
      "outputs": [
        {
          "data": {
            "text/plain": [
              "(1259, 7)"
            ]
          },
          "execution_count": 14,
          "metadata": {},
          "output_type": "execute_result"
        }
      ],
      "source": [
        "df.shape"
      ]
    },
    {
      "cell_type": "code",
      "execution_count": null,
      "metadata": {
        "colab": {
          "base_uri": "https://localhost:8080/"
        },
        "id": "8hvYhgtStLGa",
        "outputId": "20ac4694-486b-4a5b-8276-d1f7ae73754b"
      },
      "outputs": [
        {
          "data": {
            "text/plain": [
              "date      0\n",
              "open      0\n",
              "high      0\n",
              "low       0\n",
              "close     0\n",
              "volume    0\n",
              "Name      0\n",
              "dtype: int64"
            ]
          },
          "execution_count": 15,
          "metadata": {},
          "output_type": "execute_result"
        }
      ],
      "source": [
        "df.isnull().sum()"
      ]
    },
    {
      "cell_type": "code",
      "execution_count": null,
      "metadata": {
        "id": "lqP7KoOktm3j"
      },
      "outputs": [],
      "source": [
        "df.dropna(inplace=True)"
      ]
    },
    {
      "cell_type": "code",
      "execution_count": null,
      "metadata": {
        "id": "uU9wb8vtvJ3f"
      },
      "outputs": [],
      "source": [
        "df['date'] = pd.to_datetime(df['date'])"
      ]
    },
    {
      "cell_type": "code",
      "execution_count": null,
      "metadata": {
        "id": "T5FG9QlSvQ8F"
      },
      "outputs": [],
      "source": [
        "df.sort_values('date', inplace=True)"
      ]
    },
    {
      "cell_type": "code",
      "execution_count": null,
      "metadata": {
        "colab": {
          "base_uri": "https://localhost:8080/"
        },
        "id": "Jq0xGEcEwVYp",
        "outputId": "a0d21a47-5c5d-44fa-8e3e-a86b836ae3de"
      },
      "outputs": [
        {
          "name": "stdout",
          "output_type": "stream",
          "text": [
            "                                date         open         high          low  \\\n",
            "count                           1259  1259.000000  1259.000000  1259.000000   \n",
            "mean   2015-08-09 05:44:16.393963264    53.501271    53.960816    53.069671   \n",
            "min              2013-02-08 00:00:00    27.930000    28.110000    27.470000   \n",
            "25%              2014-05-10 12:00:00    39.240000    39.645000    38.735000   \n",
            "50%              2015-08-10 00:00:00    51.620000    51.940000    51.140000   \n",
            "75%              2016-11-05 12:00:00    67.635000    68.073000    67.230000   \n",
            "max              2018-02-07 00:00:00    82.050000    83.290000    81.370000   \n",
            "std                              NaN    15.330522    15.388827    15.253870   \n",
            "\n",
            "             close        volume  \n",
            "count  1259.000000  1.259000e+03  \n",
            "mean     53.540838  1.121027e+06  \n",
            "min      27.910000  2.180330e+05  \n",
            "25%      39.175000  7.351005e+05  \n",
            "50%      51.730000  9.738160e+05  \n",
            "75%      67.645000  1.325648e+06  \n",
            "max      81.850000  1.144308e+07  \n",
            "std      15.323778  6.783181e+05  \n"
          ]
        }
      ],
      "source": [
        "summary_stats = df.describe()\n",
        "print(summary_stats)"
      ]
    },
    {
      "cell_type": "code",
      "execution_count": null,
      "metadata": {
        "colab": {
          "base_uri": "https://localhost:8080/",
          "height": 371
        },
        "id": "gtxkwlDTyl9W",
        "outputId": "c9a4718c-c668-48c7-a35f-8356f7c67c1c"
      },
      "outputs": [
        {
          "data": {
            "image/png": "[encoded data removed]",
            "text/plain": [
              "<Figure size 1200x600 with 1 Axes>"
            ]
          },
          "metadata": {},
          "output_type": "display_data"
        }
      ],
      "source": [
        "plt.figure(figsize=(12, 6))\n",
        "plt.plot(df['date'], df['close'], label='Close Price')\n",
        "plt.title('Time Series Visualization of Close Price')\n",
        "plt.xlabel('date')\n",
        "plt.ylabel('close Price')\n",
        "plt.legend()\n",
        "plt.grid(True)\n",
        "plt.show()"
      ]
    },
    {
      "cell_type": "code",
      "execution_count": null,
      "metadata": {
        "id": "7OOG0uxhzT_r"
      },
      "outputs": [],
      "source": [
        "significant_events = [\n",
        "    {'date': '2015-01-15', 'event': 'Earnings Announcement', 'impact': 'Positive'},\n",
        "    {'date': '2016-03-10', 'event': 'Product Launch', 'impact': 'Positive'},\n",
        "    {'date': '2018-06-20', 'event': 'Regulatory Investigation', 'impact': 'Negative'},\n",
        "\n",
        "]\n"
      ]
    },
    {
      "cell_type": "code",
      "execution_count": null,
      "metadata": {
        "colab": {
          "base_uri": "https://localhost:8080/",
          "height": 371
        },
        "id": "kAu8mr0k1yLG",
        "outputId": "abba5975-1a36-45a3-91b8-77b82d7997fd"
      },
      "outputs": [
        {
          "data": {
            "image/png": "[encoded data removed]",
            "text/plain": [
              "<Figure size 1200x600 with 1 Axes>"
            ]
          },
          "metadata": {},
          "output_type": "display_data"
        }
      ],
      "source": [
        "plt.figure(figsize=(12, 6))\n",
        "\n",
        "plt.plot(df['date'], df['close'], label='Close Price', color='blue')\n",
        "\n",
        "for event in significant_events:\n",
        "    event_date = pd.to_datetime(event['date'])\n",
        "    plt.axvline(event_date, linestyle='--', color='red', label=f\"{event['event']} ({event['impact']})\")\n",
        "\n",
        "plt.title('Event-Based Analysis of Stock Prices')\n",
        "plt.xlabel('Date')\n",
        "plt.ylabel('Close Price')\n",
        "plt.legend()\n",
        "plt.grid(True)\n",
        "plt.show()"
      ]
    },
    {
      "cell_type": "code",
      "execution_count": null,
      "metadata": {
        "colab": {
          "base_uri": "https://localhost:8080/"
        },
        "id": "VhgFqtvSMD5J",
        "outputId": "5b6c7a9c-1f79-4da0-b069-7b218038ab30"
      },
      "outputs": [
        {
          "name": "stdout",
          "output_type": "stream",
          "text": [
            "           date   open     high     low  close   volume  Name  Close_lag_1\n",
            "0    2013-02-08  29.40  29.4900  29.142  29.47   863756  NDAQ          NaN\n",
            "1    2013-02-11  29.49  32.1499  29.320  30.38  6707438  NDAQ        29.47\n",
            "2    2013-02-12  31.33  31.6500  29.930  30.55  3384949  NDAQ        30.38\n",
            "3    2013-02-13  30.44  31.7000  30.440  31.65  3210667  NDAQ        30.55\n",
            "4    2013-02-14  31.51  31.5100  30.410  30.60  5653021  NDAQ        31.65\n",
            "...         ...    ...      ...     ...    ...      ...   ...          ...\n",
            "1254 2018-02-01  80.31  82.1600  80.150  81.37  1277925  NDAQ        80.91\n",
            "1255 2018-02-02  81.04  81.8000  80.280  80.34  1496022  NDAQ        81.37\n",
            "1256 2018-02-05  79.59  80.9800  77.200  77.47  2095712  NDAQ        80.34\n",
            "1257 2018-02-06  74.91  78.0100  72.980  77.72  2973839  NDAQ        77.47\n",
            "1258 2018-02-07  77.52  78.6500  77.240  77.27  1454143  NDAQ        77.72\n",
            "\n",
            "[1259 rows x 8 columns]\n",
            "           date   open     high     low  close   volume  Name  Close_lag_1  \\\n",
            "0    2013-02-08  29.40  29.4900  29.142  29.47   863756  NDAQ          NaN   \n",
            "1    2013-02-11  29.49  32.1499  29.320  30.38  6707438  NDAQ        29.47   \n",
            "2    2013-02-12  31.33  31.6500  29.930  30.55  3384949  NDAQ        30.38   \n",
            "3    2013-02-13  30.44  31.7000  30.440  31.65  3210667  NDAQ        30.55   \n",
            "4    2013-02-14  31.51  31.5100  30.410  30.60  5653021  NDAQ        31.65   \n",
            "...         ...    ...      ...     ...    ...      ...   ...          ...   \n",
            "1254 2018-02-01  80.31  82.1600  80.150  81.37  1277925  NDAQ        80.91   \n",
            "1255 2018-02-02  81.04  81.8000  80.280  80.34  1496022  NDAQ        81.37   \n",
            "1256 2018-02-05  79.59  80.9800  77.200  77.47  2095712  NDAQ        80.34   \n",
            "1257 2018-02-06  74.91  78.0100  72.980  77.72  2973839  NDAQ        77.47   \n",
            "1258 2018-02-07  77.52  78.6500  77.240  77.27  1454143  NDAQ        77.72   \n",
            "\n",
            "      Close_lag_2  \n",
            "0             NaN  \n",
            "1             NaN  \n",
            "2           29.47  \n",
            "3           30.38  \n",
            "4           30.55  \n",
            "...           ...  \n",
            "1254        81.85  \n",
            "1255        80.91  \n",
            "1256        81.37  \n",
            "1257        80.34  \n",
            "1258        77.47  \n",
            "\n",
            "[1259 rows x 9 columns]\n"
          ]
        }
      ],
      "source": [
        "lag_window = 2\n",
        "\n",
        "for i in range(1, lag_window + 1):\n",
        "  df[f'Close_lag_{i}'] = df['close'].shift(i)\n",
        "\n",
        "  print(df)\n"
      ]
    },
    {
      "cell_type": "code",
      "execution_count": null,
      "metadata": {
        "colab": {
          "base_uri": "https://localhost:8080/"
        },
        "id": "iEu4apJmbgGr",
        "outputId": "4dd15742-0539-45c0-9fff-1c410352560b"
      },
      "outputs": [
        {
          "name": "stdout",
          "output_type": "stream",
          "text": [
            "<class 'pandas.core.frame.DataFrame'>\n",
            "RangeIndex: 1259 entries, 0 to 1258\n",
            "Data columns (total 9 columns):\n",
            " #   Column       Non-Null Count  Dtype         \n",
            "---  ------       --------------  -----         \n",
            " 0   date         1259 non-null   datetime64[ns]\n",
            " 1   open         1259 non-null   float64       \n",
            " 2   high         1259 non-null   float64       \n",
            " 3   low          1259 non-null   float64       \n",
            " 4   close        1259 non-null   float64       \n",
            " 5   volume       1259 non-null   int64         \n",
            " 6   Name         1259 non-null   object        \n",
            " 7   Close_lag_1  1258 non-null   float64       \n",
            " 8   Close_lag_2  1257 non-null   float64       \n",
            "dtypes: datetime64[ns](1), float64(6), int64(1), object(1)\n",
            "memory usage: 88.6+ KB\n"
          ]
        }
      ],
      "source": [
        "df.info()"
      ]
    },
    {
      "cell_type": "code",
      "execution_count": null,
      "metadata": {
        "colab": {
          "base_uri": "https://localhost:8080/",
          "height": 313
        },
        "id": "IadgRD5hcGTD",
        "outputId": "97f4b437-67c7-4f32-df32-13eaed02019e"
      },
      "outputs": [
        {
          "data": {
            "application/vnd.google.colaboratory.intrinsic+json": {
              "summary": "{\n  \"name\": \"df\",\n  \"rows\": 1259,\n  \"fields\": [\n    {\n      \"column\": \"date\",\n      \"properties\": {\n        \"dtype\": \"date\",\n        \"min\": \"2013-02-08 00:00:00\",\n        \"max\": \"2018-02-07 00:00:00\",\n        \"num_unique_values\": 1259,\n        \"samples\": [\n          \"2013-05-30 00:00:00\",\n          \"2017-03-08 00:00:00\",\n          \"2013-04-12 00:00:00\"\n        ],\n        \"semantic_type\": \"\",\n        \"description\": \"\"\n      }\n    },\n    {\n      \"column\": \"open\",\n      \"properties\": {\n        \"dtype\": \"number\",\n        \"std\": 15.330522081347308,\n        \"min\": 27.93,\n        \"max\": 82.05,\n        \"num_unique_values\": 1070,\n        \"samples\": [\n          61.46,\n          56.66,\n          31.21\n        ],\n        \"semantic_type\": \"\",\n        \"description\": \"\"\n      }\n    },\n    {\n      \"column\": \"high\",\n      \"properties\": {\n        \"dtype\": \"number\",\n        \"std\": 15.388826924191651,\n        \"min\": 28.11,\n        \"max\": 83.29,\n        \"num_unique_values\": 1114,\n        \"samples\": [\n          68.45,\n          34.21,\n          80.98\n        ],\n        \"semantic_type\": \"\",\n        \"description\": \"\"\n      }\n    },\n    {\n      \"column\": \"low\",\n      \"properties\": {\n        \"dtype\": \"number\",\n        \"std\": 15.253870330677154,\n        \"min\": 27.47,\n        \"max\": 81.37,\n        \"num_unique_values\": 1115,\n        \"samples\": [\n          34.27,\n          34.06,\n          72.63\n        ],\n        \"semantic_type\": \"\",\n        \"description\": \"\"\n      }\n    },\n    {\n      \"column\": \"close\",\n      \"properties\": {\n        \"dtype\": \"number\",\n        \"std\": 15.323778179532127,\n        \"min\": 27.91,\n        \"max\": 81.85,\n        \"num_unique_values\": 1091,\n        \"samples\": [\n          68.01,\n          67.42,\n          81.85\n        ],\n        \"semantic_type\": \"\",\n        \"description\": \"\"\n      }\n    },\n    {\n      \"column\": \"volume\",\n      \"properties\": {\n        \"dtype\": \"number\",\n        \"std\": 678318,\n        \"min\": 218033,\n        \"max\": 11443079,\n        \"num_unique_values\": 1258,\n        \"samples\": [\n          712633,\n          734699,\n          2220475\n        ],\n        \"semantic_type\": \"\",\n        \"description\": \"\"\n      }\n    },\n    {\n      \"column\": \"Name\",\n      \"properties\": {\n        \"dtype\": \"category\",\n        \"num_unique_values\": 1,\n        \"samples\": [\n          \"NDAQ\"\n        ],\n        \"semantic_type\": \"\",\n        \"description\": \"\"\n      }\n    },\n    {\n      \"column\": \"Close_lag_1\",\n      \"properties\": {\n        \"dtype\": \"number\",\n        \"std\": 15.315243388361097,\n        \"min\": 27.91,\n        \"max\": 81.85,\n        \"num_unique_values\": 1090,\n        \"samples\": [\n          64.73\n        ],\n        \"semantic_type\": \"\",\n        \"description\": \"\"\n      }\n    },\n    {\n      \"column\": \"Close_lag_2\",\n      \"properties\": {\n        \"dtype\": \"number\",\n        \"std\": 15.306105329069004,\n        \"min\": 27.91,\n        \"max\": 81.85,\n        \"num_unique_values\": 1089,\n        \"samples\": [\n          43.66\n        ],\n        \"semantic_type\": \"\",\n        \"description\": \"\"\n      }\n    }\n  ]\n}",
              "type": "dataframe",
              "variable_name": "df"
            },
            "text/html": [
              "\n",
              "  <div id=\"df-2c4d8b25-285d-48d9-93e2-0fc4c803b2d2\" class=\"colab-df-container\">\n",
              "    <div>\n",
              "<style scoped>\n",
              "    .dataframe tbody tr th:only-of-type {\n",
              "        vertical-align: middle;\n",
              "    }\n",
              "\n",
              "    .dataframe tbody tr th {\n",
              "        vertical-align: top;\n",
              "    }\n",
              "\n",
              "    .dataframe thead th {\n",
              "        text-align: right;\n",
              "    }\n",
              "</style>\n",
              "<table border=\"1\" class=\"dataframe\">\n",
              "  <thead>\n",
              "    <tr style=\"text-align: right;\">\n",
              "      <th></th>\n",
              "      <th>date</th>\n",
              "      <th>open</th>\n",
              "      <th>high</th>\n",
              "      <th>low</th>\n",
              "      <th>close</th>\n",
              "      <th>volume</th>\n",
              "      <th>Name</th>\n",
              "      <th>Close_lag_1</th>\n",
              "      <th>Close_lag_2</th>\n",
              "    </tr>\n",
              "  </thead>\n",
              "  <tbody>\n",
              "    <tr>\n",
              "      <th>0</th>\n",
              "      <td>2013-02-08</td>\n",
              "      <td>29.40</td>\n",
              "      <td>29.4900</td>\n",
              "      <td>29.142</td>\n",
              "      <td>29.47</td>\n",
              "      <td>863756</td>\n",
              "      <td>NDAQ</td>\n",
              "      <td>NaN</td>\n",
              "      <td>NaN</td>\n",
              "    </tr>\n",
              "    <tr>\n",
              "      <th>1</th>\n",
              "      <td>2013-02-11</td>\n",
              "      <td>29.49</td>\n",
              "      <td>32.1499</td>\n",
              "      <td>29.320</td>\n",
              "      <td>30.38</td>\n",
              "      <td>6707438</td>\n",
              "      <td>NDAQ</td>\n",
              "      <td>29.47</td>\n",
              "      <td>NaN</td>\n",
              "    </tr>\n",
              "    <tr>\n",
              "      <th>2</th>\n",
              "      <td>2013-02-12</td>\n",
              "      <td>31.33</td>\n",
              "      <td>31.6500</td>\n",
              "      <td>29.930</td>\n",
              "      <td>30.55</td>\n",
              "      <td>3384949</td>\n",
              "      <td>NDAQ</td>\n",
              "      <td>30.38</td>\n",
              "      <td>29.47</td>\n",
              "    </tr>\n",
              "    <tr>\n",
              "      <th>3</th>\n",
              "      <td>2013-02-13</td>\n",
              "      <td>30.44</td>\n",
              "      <td>31.7000</td>\n",
              "      <td>30.440</td>\n",
              "      <td>31.65</td>\n",
              "      <td>3210667</td>\n",
              "      <td>NDAQ</td>\n",
              "      <td>30.55</td>\n",
              "      <td>30.38</td>\n",
              "    </tr>\n",
              "    <tr>\n",
              "      <th>4</th>\n",
              "      <td>2013-02-14</td>\n",
              "      <td>31.51</td>\n",
              "      <td>31.5100</td>\n",
              "      <td>30.410</td>\n",
              "      <td>30.60</td>\n",
              "      <td>5653021</td>\n",
              "      <td>NDAQ</td>\n",
              "      <td>31.65</td>\n",
              "      <td>30.55</td>\n",
              "    </tr>\n",
              "  </tbody>\n",
              "</table>\n",
              "</div>\n",
              "    <div class=\"colab-df-buttons\">\n",
              "\n",
              "  <div class=\"colab-df-container\">\n",
              "    <button class=\"colab-df-convert\" onclick=\"convertToInteractive('df-2c4d8b25-285d-48d9-93e2-0fc4c803b2d2')\"\n",
              "            title=\"Convert this dataframe to an interactive table.\"\n",
              "            style=\"display:none;\">\n",
              "\n",
              "  <svg xmlns=\"http://www.w3.org/2000/svg\" height=\"24px\" viewBox=\"0 -960 960 960\">\n",
              "    <path d=\"M120-120v-720h720v720H120Zm60-500h600v-160H180v160Zm220 220h160v-160H400v160Zm0 220h160v-160H400v160ZM180-400h160v-160H180v160Zm440 0h160v-160H620v160ZM180-180h160v-160H180v160Zm440 0h160v-160H620v160Z\"/>\n",
              "  </svg>\n",
              "    </button>\n",
              "\n",
              "  <style>\n",
              "    .colab-df-container {\n",
              "      display:flex;\n",
              "      gap: 12px;\n",
              "    }\n",
              "\n",
              "    .colab-df-convert {\n",
              "      background-color: #E8F0FE;\n",
              "      border: none;\n",
              "      border-radius: 50%;\n",
              "      cursor: pointer;\n",
              "      display: none;\n",
              "      fill: #1967D2;\n",
              "      height: 32px;\n",
              "      padding: 0 0 0 0;\n",
              "      width: 32px;\n",
              "    }\n",
              "\n",
              "    .colab-df-convert:hover {\n",
              "      background-color: #E2EBFA;\n",
              "      box-shadow: 0px 1px 2px rgba(60, 64, 67, 0.3), 0px 1px 3px 1px rgba(60, 64, 67, 0.15);\n",
              "      fill: #174EA6;\n",
              "    }\n",
              "\n",
              "    .colab-df-buttons div {\n",
              "      margin-bottom: 4px;\n",
              "    }\n",
              "\n",
              "    [theme=dark] .colab-df-convert {\n",
              "      background-color: #3B4455;\n",
              "      fill: #D2E3FC;\n",
              "    }\n",
              "\n",
              "    [theme=dark] .colab-df-convert:hover {\n",
              "      background-color: #434B5C;\n",
              "      box-shadow: 0px 1px 3px 1px rgba(0, 0, 0, 0.15);\n",
              "      filter: drop-shadow(0px 1px 2px rgba(0, 0, 0, 0.3));\n",
              "      fill: #FFFFFF;\n",
              "    }\n",
              "  </style>\n",
              "\n",
              "    <script>\n",
              "      const buttonEl =\n",
              "        document.querySelector('#df-2c4d8b25-285d-48d9-93e2-0fc4c803b2d2 button.colab-df-convert');\n",
              "      buttonEl.style.display =\n",
              "        google.colab.kernel.accessAllowed ? 'block' : 'none';\n",
              "\n",
              "      async function convertToInteractive(key) {\n",
              "        const element = document.querySelector('#df-2c4d8b25-285d-48d9-93e2-0fc4c803b2d2');\n",
              "        const dataTable =\n",
              "          await google.colab.kernel.invokeFunction('convertToInteractive',\n",
              "                                                    [key], {});\n",
              "        if (!dataTable) return;\n",
              "\n",
              "        const docLinkHtml = 'Like what you see? Visit the ' +\n",
              "          '<a target=\"_blank\" href=https://colab.research.google.com/notebooks/data_table.ipynb>data table notebook</a>'\n",
              "          + ' to learn more about interactive tables.';\n",
              "        element.innerHTML = '';\n",
              "        dataTable['output_type'] = 'display_data';\n",
              "        await google.colab.output.renderOutput(dataTable, element);\n",
              "        const docLink = document.createElement('div');\n",
              "        docLink.innerHTML = docLinkHtml;\n",
              "        element.appendChild(docLink);\n",
              "      }\n",
              "    </script>\n",
              "  </div>\n",
              "\n",
              "\n",
              "<div id=\"df-fd9fa4a3-c994-4508-b25c-cb813048feff\">\n",
              "  <button class=\"colab-df-quickchart\" onclick=\"quickchart('df-fd9fa4a3-c994-4508-b25c-cb813048feff')\"\n",
              "            title=\"Suggest charts\"\n",
              "            style=\"display:none;\">\n",
              "\n",
              "<svg xmlns=\"http://www.w3.org/2000/svg\" height=\"24px\"viewBox=\"0 0 24 24\"\n",
              "     width=\"24px\">\n",
              "    <g>\n",
              "        <path d=\"M19 3H5c-1.1 0-2 .9-2 2v14c0 1.1.9 2 2 2h14c1.1 0 2-.9 2-2V5c0-1.1-.9-2-2-2zM9 17H7v-7h2v7zm4 0h-2V7h2v10zm4 0h-2v-4h2v4z\"/>\n",
              "    </g>\n",
              "</svg>\n",
              "  </button>\n",
              "\n",
              "<style>\n",
              "  .colab-df-quickchart {\n",
              "      --bg-color: #E8F0FE;\n",
              "      --fill-color: #1967D2;\n",
              "      --hover-bg-color: #E2EBFA;\n",
              "      --hover-fill-color: #174EA6;\n",
              "      --disabled-fill-color: #AAA;\n",
              "      --disabled-bg-color: #DDD;\n",
              "  }\n",
              "\n",
              "  [theme=dark] .colab-df-quickchart {\n",
              "      --bg-color: #3B4455;\n",
              "      --fill-color: #D2E3FC;\n",
              "      --hover-bg-color: #434B5C;\n",
              "      --hover-fill-color: #FFFFFF;\n",
              "      --disabled-bg-color: #3B4455;\n",
              "      --disabled-fill-color: #666;\n",
              "  }\n",
              "\n",
              "  .colab-df-quickchart {\n",
              "    background-color: var(--bg-color);\n",
              "    border: none;\n",
              "    border-radius: 50%;\n",
              "    cursor: pointer;\n",
              "    display: none;\n",
              "    fill: var(--fill-color);\n",
              "    height: 32px;\n",
              "    padding: 0;\n",
              "    width: 32px;\n",
              "  }\n",
              "\n",
              "  .colab-df-quickchart:hover {\n",
              "    background-color: var(--hover-bg-color);\n",
              "    box-shadow: 0 1px 2px rgba(60, 64, 67, 0.3), 0 1px 3px 1px rgba(60, 64, 67, 0.15);\n",
              "    fill: var(--button-hover-fill-color);\n",
              "  }\n",
              "\n",
              "  .colab-df-quickchart-complete:disabled,\n",
              "  .colab-df-quickchart-complete:disabled:hover {\n",
              "    background-color: var(--disabled-bg-color);\n",
              "    fill: var(--disabled-fill-color);\n",
              "    box-shadow: none;\n",
              "  }\n",
              "\n",
              "  .colab-df-spinner {\n",
              "    border: 2px solid var(--fill-color);\n",
              "    border-color: transparent;\n",
              "    border-bottom-color: var(--fill-color);\n",
              "    animation:\n",
              "      spin 1s steps(1) infinite;\n",
              "  }\n",
              "\n",
              "  @keyframes spin {\n",
              "    0% {\n",
              "      border-color: transparent;\n",
              "      border-bottom-color: var(--fill-color);\n",
              "      border-left-color: var(--fill-color);\n",
              "    }\n",
              "    20% {\n",
              "      border-color: transparent;\n",
              "      border-left-color: var(--fill-color);\n",
              "      border-top-color: var(--fill-color);\n",
              "    }\n",
              "    30% {\n",
              "      border-color: transparent;\n",
              "      border-left-color: var(--fill-color);\n",
              "      border-top-color: var(--fill-color);\n",
              "      border-right-color: var(--fill-color);\n",
              "    }\n",
              "    40% {\n",
              "      border-color: transparent;\n",
              "      border-right-color: var(--fill-color);\n",
              "      border-top-color: var(--fill-color);\n",
              "    }\n",
              "    60% {\n",
              "      border-color: transparent;\n",
              "      border-right-color: var(--fill-color);\n",
              "    }\n",
              "    80% {\n",
              "      border-color: transparent;\n",
              "      border-right-color: var(--fill-color);\n",
              "      border-bottom-color: var(--fill-color);\n",
              "    }\n",
              "    90% {\n",
              "      border-color: transparent;\n",
              "      border-bottom-color: var(--fill-color);\n",
              "    }\n",
              "  }\n",
              "</style>\n",
              "\n",
              "  <script>\n",
              "    async function quickchart(key) {\n",
              "      const quickchartButtonEl =\n",
              "        document.querySelector('#' + key + ' button');\n",
              "      quickchartButtonEl.disabled = true;  // To prevent multiple clicks.\n",
              "      quickchartButtonEl.classList.add('colab-df-spinner');\n",
              "      try {\n",
              "        const charts = await google.colab.kernel.invokeFunction(\n",
              "            'suggestCharts', [key], {});\n",
              "      } catch (error) {\n",
              "        console.error('Error during call to suggestCharts:', error);\n",
              "      }\n",
              "      quickchartButtonEl.classList.remove('colab-df-spinner');\n",
              "      quickchartButtonEl.classList.add('colab-df-quickchart-complete');\n",
              "    }\n",
              "    (() => {\n",
              "      let quickchartButtonEl =\n",
              "        document.querySelector('#df-fd9fa4a3-c994-4508-b25c-cb813048feff button');\n",
              "      quickchartButtonEl.style.display =\n",
              "        google.colab.kernel.accessAllowed ? 'block' : 'none';\n",
              "    })();\n",
              "  </script>\n",
              "</div>\n",
              "\n",
              "    </div>\n",
              "  </div>\n"
            ],
            "text/plain": [
              "        date   open     high     low  close   volume  Name  Close_lag_1  \\\n",
              "0 2013-02-08  29.40  29.4900  29.142  29.47   863756  NDAQ          NaN   \n",
              "1 2013-02-11  29.49  32.1499  29.320  30.38  6707438  NDAQ        29.47   \n",
              "2 2013-02-12  31.33  31.6500  29.930  30.55  3384949  NDAQ        30.38   \n",
              "3 2013-02-13  30.44  31.7000  30.440  31.65  3210667  NDAQ        30.55   \n",
              "4 2013-02-14  31.51  31.5100  30.410  30.60  5653021  NDAQ        31.65   \n",
              "\n",
              "   Close_lag_2  \n",
              "0          NaN  \n",
              "1          NaN  \n",
              "2        29.47  \n",
              "3        30.38  \n",
              "4        30.55  "
            ]
          },
          "execution_count": 25,
          "metadata": {},
          "output_type": "execute_result"
        }
      ],
      "source": [
        "df.head()"
      ]
    },
    {
      "cell_type": "code",
      "execution_count": null,
      "metadata": {
        "colab": {
          "base_uri": "https://localhost:8080/"
        },
        "id": "UtiLBpCucPSc",
        "outputId": "1b54dec1-6765-4f99-ab66-d3b16530c7ea"
      },
      "outputs": [
        {
          "name": "stdout",
          "output_type": "stream",
          "text": [
            "           date   open     high     low  close   volume  Name  Close_lag_1  \\\n",
            "0    2013-02-08  29.40  29.4900  29.142  29.47   863756  NDAQ          NaN   \n",
            "1    2013-02-11  29.49  32.1499  29.320  30.38  6707438  NDAQ        29.47   \n",
            "2    2013-02-12  31.33  31.6500  29.930  30.55  3384949  NDAQ        30.38   \n",
            "3    2013-02-13  30.44  31.7000  30.440  31.65  3210667  NDAQ        30.55   \n",
            "4    2013-02-14  31.51  31.5100  30.410  30.60  5653021  NDAQ        31.65   \n",
            "...         ...    ...      ...     ...    ...      ...   ...          ...   \n",
            "1254 2018-02-01  80.31  82.1600  80.150  81.37  1277925  NDAQ        80.91   \n",
            "1255 2018-02-02  81.04  81.8000  80.280  80.34  1496022  NDAQ        81.37   \n",
            "1256 2018-02-05  79.59  80.9800  77.200  77.47  2095712  NDAQ        80.34   \n",
            "1257 2018-02-06  74.91  78.0100  72.980  77.72  2973839  NDAQ        77.47   \n",
            "1258 2018-02-07  77.52  78.6500  77.240  77.27  1454143  NDAQ        77.72   \n",
            "\n",
            "      Close_lag_2   SMA_10  \n",
            "0             NaN      NaN  \n",
            "1             NaN      NaN  \n",
            "2           29.47      NaN  \n",
            "3           30.38      NaN  \n",
            "4           30.55      NaN  \n",
            "...           ...      ...  \n",
            "1254        81.85  81.0395  \n",
            "1255        80.91  81.0665  \n",
            "1256        81.37  80.7505  \n",
            "1257        80.34  80.5015  \n",
            "1258        77.47  80.1115  \n",
            "\n",
            "[1259 rows x 10 columns]\n"
          ]
        }
      ],
      "source": [
        "df['SMA_10'] = df['close'].rolling(window=10).mean()\n",
        "print(df)"
      ]
    },
    {
      "cell_type": "code",
      "execution_count": null,
      "metadata": {
        "id": "YQHtnRFIc5H0"
      },
      "outputs": [],
      "source": [
        "df['EMA_10'] = df['close'].ewm(span=10, adjust=False).mean()"
      ]
    },
    {
      "cell_type": "code",
      "execution_count": null,
      "metadata": {
        "id": "-6onIJiHc-pH"
      },
      "outputs": [],
      "source": [
        "df['Rolling_STD_10'] = df['close'].rolling(window=10).std()"
      ]
    },
    {
      "cell_type": "code",
      "execution_count": null,
      "metadata": {
        "id": "6-4f-IxadMA3"
      },
      "outputs": [],
      "source": [
        "df['Rolling_Volume_Sum_10'] = df['volume'].rolling(window=10).sum()"
      ]
    },
    {
      "cell_type": "code",
      "execution_count": null,
      "metadata": {
        "colab": {
          "base_uri": "https://localhost:8080/"
        },
        "id": "N4yiZspfdr01",
        "outputId": "1f8faf4f-1ddc-4e55-d582-4e234bbb272c"
      },
      "outputs": [
        {
          "name": "stdout",
          "output_type": "stream",
          "text": [
            "           date   open     high     low  close   volume  Name  Close_lag_1  \\\n",
            "0    2013-02-08  29.40  29.4900  29.142  29.47   863756  NDAQ          NaN   \n",
            "1    2013-02-11  29.49  32.1499  29.320  30.38  6707438  NDAQ        29.47   \n",
            "2    2013-02-12  31.33  31.6500  29.930  30.55  3384949  NDAQ        30.38   \n",
            "3    2013-02-13  30.44  31.7000  30.440  31.65  3210667  NDAQ        30.55   \n",
            "4    2013-02-14  31.51  31.5100  30.410  30.60  5653021  NDAQ        31.65   \n",
            "...         ...    ...      ...     ...    ...      ...   ...          ...   \n",
            "1254 2018-02-01  80.31  82.1600  80.150  81.37  1277925  NDAQ        80.91   \n",
            "1255 2018-02-02  81.04  81.8000  80.280  80.34  1496022  NDAQ        81.37   \n",
            "1256 2018-02-05  79.59  80.9800  77.200  77.47  2095712  NDAQ        80.34   \n",
            "1257 2018-02-06  74.91  78.0100  72.980  77.72  2973839  NDAQ        77.47   \n",
            "1258 2018-02-07  77.52  78.6500  77.240  77.27  1454143  NDAQ        77.72   \n",
            "\n",
            "      Close_lag_2   SMA_10     EMA_10  Rolling_STD_10  Rolling_Volume_Sum_10  \n",
            "0             NaN      NaN  29.470000             NaN                    NaN  \n",
            "1             NaN      NaN  29.635455             NaN                    NaN  \n",
            "2           29.47      NaN  29.801736             NaN                    NaN  \n",
            "3           30.38      NaN  30.137784             NaN                    NaN  \n",
            "4           30.55      NaN  30.221823             NaN                    NaN  \n",
            "...           ...      ...        ...             ...                    ...  \n",
            "1254        81.85  81.0395  81.042774        0.585446             10131963.0  \n",
            "1255        80.91  81.0665  80.914997        0.540247             10952379.0  \n",
            "1256        81.37  80.7505  80.288634        1.263704             12234772.0  \n",
            "1257        80.34  80.5015  79.821609        1.586201             14731498.0  \n",
            "1258        77.47  80.1115  79.357680        1.859480             15386313.0  \n",
            "\n",
            "[1259 rows x 13 columns]\n"
          ]
        }
      ],
      "source": [
        "print(df)"
      ]
    },
    {
      "cell_type": "code",
      "execution_count": null,
      "metadata": {
        "id": "SsXCjlQsWokV"
      },
      "outputs": [],
      "source": [
        "df['Volume_Change'] = df['volume'].pct_change() * 100"
      ]
    },
    {
      "cell_type": "code",
      "execution_count": null,
      "metadata": {
        "id": "UZ-ZrM-uW5e_"
      },
      "outputs": [],
      "source": [
        "df['Volume_Ratio'] = df['volume'] / df['volume'].rolling(window=10).mean()"
      ]
    },
    {
      "cell_type": "code",
      "execution_count": null,
      "metadata": {
        "id": "oQvycI3gXJOo"
      },
      "outputs": [],
      "source": [
        "short_term_ma = df['volume'].rolling(window=10).mean()\n",
        "long_term_ma = df['volume'].rolling(window=30).mean()\n",
        "df['Volume_Oscillator'] = (short_term_ma - long_term_ma) / long_term_ma"
      ]
    },
    {
      "cell_type": "code",
      "execution_count": null,
      "metadata": {
        "id": "NnWRyshGXasU"
      },
      "outputs": [],
      "source": [
        "def calculate_rsi(data, window=14):\n",
        "    delta = data.diff()\n",
        "    gain = (delta.where(delta > 0, 0)).rolling(window=window).mean()\n",
        "    loss = (-delta.where(delta < 0, 0)).rolling(window=window).mean()\n",
        "    rs = gain / loss\n",
        "    rsi = 100 - (100 / (1 + rs))\n",
        "    return rsi\n",
        "\n",
        "df['RSI_14'] = calculate_rsi(df['close'])\n"
      ]
    },
    {
      "cell_type": "code",
      "execution_count": null,
      "metadata": {
        "id": "ikGv6BRca8Py"
      },
      "outputs": [],
      "source": [
        "window = 20\n",
        "df['SMA'] = df['close'].rolling(window=window).mean()\n",
        "df['Upper_Band'] = df['SMA'] + 2 * df['close'].rolling(window=window).std()\n",
        "df['Lower_Band'] = df['SMA'] - 2 * df['close'].rolling(window=window).std()"
      ]
    },
    {
      "cell_type": "code",
      "execution_count": null,
      "metadata": {
        "id": "v9dR-bzcbxcp"
      },
      "outputs": [],
      "source": [
        "df['OBV'] = (df['volume'] * ((df['close'] - df['close'].shift(1)) > 0)).cumsum()"
      ]
    },
    {
      "cell_type": "code",
      "execution_count": null,
      "metadata": {
        "colab": {
          "base_uri": "https://localhost:8080/"
        },
        "id": "KTZdHEbcb4Rc",
        "outputId": "bc7299f1-41a2-4db8-d271-4931e7183b67"
      },
      "outputs": [
        {
          "name": "stdout",
          "output_type": "stream",
          "text": [
            "           date   open     high     low  close   volume  Name  Close_lag_1  \\\n",
            "0    2013-02-08  29.40  29.4900  29.142  29.47   863756  NDAQ          NaN   \n",
            "1    2013-02-11  29.49  32.1499  29.320  30.38  6707438  NDAQ        29.47   \n",
            "2    2013-02-12  31.33  31.6500  29.930  30.55  3384949  NDAQ        30.38   \n",
            "3    2013-02-13  30.44  31.7000  30.440  31.65  3210667  NDAQ        30.55   \n",
            "4    2013-02-14  31.51  31.5100  30.410  30.60  5653021  NDAQ        31.65   \n",
            "...         ...    ...      ...     ...    ...      ...   ...          ...   \n",
            "1254 2018-02-01  80.31  82.1600  80.150  81.37  1277925  NDAQ        80.91   \n",
            "1255 2018-02-02  81.04  81.8000  80.280  80.34  1496022  NDAQ        81.37   \n",
            "1256 2018-02-05  79.59  80.9800  77.200  77.47  2095712  NDAQ        80.34   \n",
            "1257 2018-02-06  74.91  78.0100  72.980  77.72  2973839  NDAQ        77.47   \n",
            "1258 2018-02-07  77.52  78.6500  77.240  77.27  1454143  NDAQ        77.72   \n",
            "\n",
            "      Close_lag_2   SMA_10  ...  Rolling_STD_10  Rolling_Volume_Sum_10  \\\n",
            "0             NaN      NaN  ...             NaN                    NaN   \n",
            "1             NaN      NaN  ...             NaN                    NaN   \n",
            "2           29.47      NaN  ...             NaN                    NaN   \n",
            "3           30.38      NaN  ...             NaN                    NaN   \n",
            "4           30.55      NaN  ...             NaN                    NaN   \n",
            "...           ...      ...  ...             ...                    ...   \n",
            "1254        81.85  81.0395  ...        0.585446             10131963.0   \n",
            "1255        80.91  81.0665  ...        0.540247             10952379.0   \n",
            "1256        81.37  80.7505  ...        1.263704             12234772.0   \n",
            "1257        80.34  80.5015  ...        1.586201             14731498.0   \n",
            "1258        77.47  80.1115  ...        1.859480             15386313.0   \n",
            "\n",
            "      Volume_Change  Volume_Ratio  Volume_Oscillator     RSI_14       SMA  \\\n",
            "0               NaN           NaN                NaN        NaN       NaN   \n",
            "1        676.543144           NaN                NaN        NaN       NaN   \n",
            "2        -49.534397           NaN                NaN        NaN       NaN   \n",
            "3         -5.148733           NaN                NaN        NaN       NaN   \n",
            "4         76.069988           NaN                NaN        NaN       NaN   \n",
            "...             ...           ...                ...        ...       ...   \n",
            "1254     -29.032632      1.261281           0.108263  56.584660  80.61275   \n",
            "1255      17.066495      1.365933           0.178735  42.180775  80.69525   \n",
            "1256      40.085640      1.712915           0.260939  33.295583  80.60825   \n",
            "1257      41.901130      2.018694           0.412728  34.845133  80.49625   \n",
            "1258     -51.102161      0.945089           0.445145  35.553047  80.35125   \n",
            "\n",
            "      Upper_Band  Lower_Band        OBV  \n",
            "0            NaN         NaN          0  \n",
            "1            NaN         NaN    6707438  \n",
            "2            NaN         NaN   10092387  \n",
            "3            NaN         NaN   13303054  \n",
            "4            NaN         NaN   13303054  \n",
            "...          ...         ...        ...  \n",
            "1254   82.263145   78.962355  735063095  \n",
            "1255   82.085394   79.305106  735063095  \n",
            "1256   82.512498   78.704002  735063095  \n",
            "1257   82.785591   78.206909  738036934  \n",
            "1258   83.057068   77.645432  738036934  \n",
            "\n",
            "[1259 rows x 21 columns]\n"
          ]
        }
      ],
      "source": [
        "print(df)"
      ]
    },
    {
      "cell_type": "code",
      "execution_count": null,
      "metadata": {
        "colab": {
          "base_uri": "https://localhost:8080/",
          "height": 339
        },
        "id": "Of7nvcwTchKg",
        "outputId": "fbd4ae8d-6dbb-491f-a1d8-120fef7e2dc6"
      },
      "outputs": [
        {
          "data": {
            "image/png": "[encoded data removed]",
            "text/plain": [
              "<Figure size 1400x1000 with 1 Axes>"
            ]
          },
          "metadata": {},
          "output_type": "display_data"
        }
      ],
      "source": [
        "plt.figure(figsize=(14, 10))\n",
        "plt.subplot(3, 2, 2)\n",
        "plt.plot(df['date'], df['RSI_14'], color='green')\n",
        "plt.title('Relative Strength Index (RSI)')\n",
        "plt.xlabel('Date')\n",
        "plt.ylabel('RSI')\n",
        "plt.tight_layout()\n",
        "plt.show()\n"
      ]
    },
    {
      "cell_type": "code",
      "execution_count": null,
      "metadata": {
        "colab": {
          "base_uri": "https://localhost:8080/",
          "height": 341
        },
        "id": "nLty04ZKcZko",
        "outputId": "367492c3-8485-4161-c1db-516fd09f9926"
      },
      "outputs": [
        {
          "data": {
            "image/png": "[encoded data removed]",
            "text/plain": [
              "<Figure size 1400x1000 with 1 Axes>"
            ]
          },
          "metadata": {},
          "output_type": "display_data"
        }
      ],
      "source": [
        "plt.figure(figsize=(14, 10))\n",
        "\n",
        "plt.subplot(3, 2, 1)\n",
        "plt.plot(df['date'], df['close'], color='blue')\n",
        "plt.title('Close Price')\n",
        "plt.xlabel('Date')\n",
        "plt.ylabel('Price')\n",
        "plt.tight_layout()\n",
        "plt.show()"
      ]
    },
    {
      "cell_type": "code",
      "execution_count": null,
      "metadata": {
        "colab": {
          "base_uri": "https://localhost:8080/",
          "height": 348
        },
        "id": "t3JQfeE6co3y",
        "outputId": "d4fecd29-868d-46d4-b0e8-57df9badb248"
      },
      "outputs": [
        {
          "data": {
            "image/png": "[encoded data removed]",
            "text/plain": [
              "<Figure size 1400x1000 with 1 Axes>"
            ]
          },
          "metadata": {},
          "output_type": "display_data"
        }
      ],
      "source": [
        "plt.figure(figsize=(14, 10))\n",
        "plt.subplot(3, 2, 4)\n",
        "plt.plot(df['date'], df['close'], color='blue')\n",
        "plt.plot(df['date'], df['Upper_Band'], color='red', linestyle='--', label='Upper Band')\n",
        "plt.plot(df['date'], df['Lower_Band'], color='green', linestyle='--', label='Lower Band')\n",
        "plt.title('Bollinger Bands')\n",
        "plt.xlabel('Date')\n",
        "plt.ylabel('Price')\n",
        "plt.legend()\n",
        "plt.tight_layout()\n",
        "plt.show()\n"
      ]
    },
    {
      "cell_type": "code",
      "execution_count": null,
      "metadata": {
        "colab": {
          "base_uri": "https://localhost:8080/",
          "height": 349
        },
        "id": "p-tr-WkddATZ",
        "outputId": "40f0ef8e-fb47-433c-da0a-af41076e5a68"
      },
      "outputs": [
        {
          "data": {
            "image/png": "[encoded data removed]",
            "text/plain": [
              "<Figure size 1400x1000 with 1 Axes>"
            ]
          },
          "metadata": {},
          "output_type": "display_data"
        }
      ],
      "source": [
        "plt.figure(figsize=(14, 10))\n",
        "plt.subplot(3, 2, 6)\n",
        "plt.plot(df['date'], df['OBV'], color='purple')\n",
        "plt.title('On-Balance Volume (OBV)')\n",
        "plt.xlabel('Date')\n",
        "plt.ylabel('Volume')\n",
        "plt.tight_layout()\n",
        "plt.show()\n"
      ]
    },
    {
      "cell_type": "code",
      "execution_count": null,
      "metadata": {
        "colab": {
          "base_uri": "https://localhost:8080/"
        },
        "id": "q0QZK52GdWx2",
        "outputId": "b061e48c-107b-4fea-89ee-7eae1b09b12d"
      },
      "outputs": [
        {
          "name": "stdout",
          "output_type": "stream",
          "text": [
            "<class 'pandas.core.frame.DataFrame'>\n",
            "RangeIndex: 1259 entries, 0 to 1258\n",
            "Data columns (total 21 columns):\n",
            " #   Column                 Non-Null Count  Dtype         \n",
            "---  ------                 --------------  -----         \n",
            " 0   date                   1259 non-null   datetime64[ns]\n",
            " 1   open                   1259 non-null   float64       \n",
            " 2   high                   1259 non-null   float64       \n",
            " 3   low                    1259 non-null   float64       \n",
            " 4   close                  1259 non-null   float64       \n",
            " 5   volume                 1259 non-null   int64         \n",
            " 6   Name                   1259 non-null   object        \n",
            " 7   Close_lag_1            1258 non-null   float64       \n",
            " 8   Close_lag_2            1257 non-null   float64       \n",
            " 9   SMA_10                 1250 non-null   float64       \n",
            " 10  EMA_10                 1259 non-null   float64       \n",
            " 11  Rolling_STD_10         1250 non-null   float64       \n",
            " 12  Rolling_Volume_Sum_10  1250 non-null   float64       \n",
            " 13  Volume_Change          1258 non-null   float64       \n",
            " 14  Volume_Ratio           1250 non-null   float64       \n",
            " 15  Volume_Oscillator      1230 non-null   float64       \n",
            " 16  RSI_14                 1246 non-null   float64       \n",
            " 17  SMA                    1240 non-null   float64       \n",
            " 18  Upper_Band             1240 non-null   float64       \n",
            " 19  Lower_Band             1240 non-null   float64       \n",
            " 20  OBV                    1259 non-null   int64         \n",
            "dtypes: datetime64[ns](1), float64(17), int64(2), object(1)\n",
            "memory usage: 206.7+ KB\n"
          ]
        }
      ],
      "source": [
        "df.info()"
      ]
    },
    {
      "cell_type": "code",
      "execution_count": null,
      "metadata": {
        "id": "c1p9LY2Igk1L"
      },
      "outputs": [],
      "source": [
        "X = df[['volume', 'Volume_Change', 'Volume_Oscillator', 'RSI_14', 'SMA', 'SMA_10', 'open', 'high', 'low' ]]\n",
        "y = df['close']"
      ]
    },
    {
      "cell_type": "code",
      "execution_count": null,
      "metadata": {
        "id": "d_xFEWjuhg_e"
      },
      "outputs": [],
      "source": [
        "X_train, X_test, y_train, y_test = train_test_split(X, y, test_size=0.2, random_state=42)"
      ]
    },
    {
      "cell_type": "code",
      "execution_count": null,
      "metadata": {
        "id": "jv7bbAiuj28u"
      },
      "outputs": [],
      "source": [
        "imputer = SimpleImputer(strategy='mean')\n",
        "X_train_imputed = imputer.fit_transform(X_train)\n",
        "X_test_imputed = imputer.transform(X_test)"
      ]
    },
    {
      "cell_type": "code",
      "execution_count": null,
      "metadata": {
        "id": "apoZXYk-j5XP"
      },
      "outputs": [],
      "source": [
        "scaler = StandardScaler()\n",
        "X_train_scaled = scaler.fit_transform(X_train_imputed)\n",
        "X_test_scaled = scaler.transform(X_test_imputed)\n"
      ]
    },
    {
      "cell_type": "code",
      "execution_count": null,
      "metadata": {
        "colab": {
          "base_uri": "https://localhost:8080/",
          "height": 74
        },
        "id": "1SfBy3_Fj7U7",
        "outputId": "b0c044e2-dff6-4112-d3e2-07118f2c3d9a"
      },
      "outputs": [
        {
          "data": {
            "text/html": [
              "<style>#sk-container-id-1 {color: black;background-color: white;}#sk-container-id-1 pre{padding: 0;}#sk-container-id-1 div.sk-toggleable {background-color: white;}#sk-container-id-1 label.sk-toggleable__label {cursor: pointer;display: block;width: 100%;margin-bottom: 0;padding: 0.3em;box-sizing: border-box;text-align: center;}#sk-container-id-1 label.sk-toggleable__label-arrow:before {content: \"▸\";float: left;margin-right: 0.25em;color: #696969;}#sk-container-id-1 label.sk-toggleable__label-arrow:hover:before {color: black;}#sk-container-id-1 div.sk-estimator:hover label.sk-toggleable__label-arrow:before {color: black;}#sk-container-id-1 div.sk-toggleable__content {max-height: 0;max-width: 0;overflow: hidden;text-align: left;background-color: #f0f8ff;}#sk-container-id-1 div.sk-toggleable__content pre {margin: 0.2em;color: black;border-radius: 0.25em;background-color: #f0f8ff;}#sk-container-id-1 input.sk-toggleable__control:checked~div.sk-toggleable__content {max-height: 200px;max-width: 100%;overflow: auto;}#sk-container-id-1 input.sk-toggleable__control:checked~label.sk-toggleable__label-arrow:before {content: \"▾\";}#sk-container-id-1 div.sk-estimator input.sk-toggleable__control:checked~label.sk-toggleable__label {background-color: #d4ebff;}#sk-container-id-1 div.sk-label input.sk-toggleable__control:checked~label.sk-toggleable__label {background-color: #d4ebff;}#sk-container-id-1 input.sk-hidden--visually {border: 0;clip: rect(1px 1px 1px 1px);clip: rect(1px, 1px, 1px, 1px);height: 1px;margin: -1px;overflow: hidden;padding: 0;position: absolute;width: 1px;}#sk-container-id-1 div.sk-estimator {font-family: monospace;background-color: #f0f8ff;border: 1px dotted black;border-radius: 0.25em;box-sizing: border-box;margin-bottom: 0.5em;}#sk-container-id-1 div.sk-estimator:hover {background-color: #d4ebff;}#sk-container-id-1 div.sk-parallel-item::after {content: \"\";width: 100%;border-bottom: 1px solid gray;flex-grow: 1;}#sk-container-id-1 div.sk-label:hover label.sk-toggleable__label {background-color: #d4ebff;}#sk-container-id-1 div.sk-serial::before {content: \"\";position: absolute;border-left: 1px solid gray;box-sizing: border-box;top: 0;bottom: 0;left: 50%;z-index: 0;}#sk-container-id-1 div.sk-serial {display: flex;flex-direction: column;align-items: center;background-color: white;padding-right: 0.2em;padding-left: 0.2em;position: relative;}#sk-container-id-1 div.sk-item {position: relative;z-index: 1;}#sk-container-id-1 div.sk-parallel {display: flex;align-items: stretch;justify-content: center;background-color: white;position: relative;}#sk-container-id-1 div.sk-item::before, #sk-container-id-1 div.sk-parallel-item::before {content: \"\";position: absolute;border-left: 1px solid gray;box-sizing: border-box;top: 0;bottom: 0;left: 50%;z-index: -1;}#sk-container-id-1 div.sk-parallel-item {display: flex;flex-direction: column;z-index: 1;position: relative;background-color: white;}#sk-container-id-1 div.sk-parallel-item:first-child::after {align-self: flex-end;width: 50%;}#sk-container-id-1 div.sk-parallel-item:last-child::after {align-self: flex-start;width: 50%;}#sk-container-id-1 div.sk-parallel-item:only-child::after {width: 0;}#sk-container-id-1 div.sk-dashed-wrapped {border: 1px dashed gray;margin: 0 0.4em 0.5em 0.4em;box-sizing: border-box;padding-bottom: 0.4em;background-color: white;}#sk-container-id-1 div.sk-label label {font-family: monospace;font-weight: bold;display: inline-block;line-height: 1.2em;}#sk-container-id-1 div.sk-label-container {text-align: center;}#sk-container-id-1 div.sk-container {/* jupyter's `normalize.less` sets `[hidden] { display: none; }` but bootstrap.min.css set `[hidden] { display: none !important; }` so we also need the `!important` here to be able to override the default hidden behavior on the sphinx rendered scikit-learn.org. See: https://github.com/scikit-learn/scikit-learn/issues/21755 */display: inline-block !important;position: relative;}#sk-container-id-1 div.sk-text-repr-fallback {display: none;}</style><div id=\"sk-container-id-1\" class=\"sk-top-container\"><div class=\"sk-text-repr-fallback\"><pre>LinearRegression()</pre><b>In a Jupyter environment, please rerun this cell to show the HTML representation or trust the notebook. <br />On GitHub, the HTML representation is unable to render, please try loading this page with nbviewer.org.</b></div><div class=\"sk-container\" hidden><div class=\"sk-item\"><div class=\"sk-estimator sk-toggleable\"><input class=\"sk-toggleable__control sk-hidden--visually\" id=\"sk-estimator-id-1\" type=\"checkbox\" checked><label for=\"sk-estimator-id-1\" class=\"sk-toggleable__label sk-toggleable__label-arrow\">LinearRegression</label><div class=\"sk-toggleable__content\"><pre>LinearRegression()</pre></div></div></div></div></div>"
            ],
            "text/plain": [
              "LinearRegression()"
            ]
          },
          "execution_count": 47,
          "metadata": {},
          "output_type": "execute_result"
        }
      ],
      "source": [
        "model = LinearRegression()\n",
        "model.fit(X_train_scaled, y_train)"
      ]
    },
    {
      "cell_type": "code",
      "execution_count": null,
      "metadata": {
        "id": "7cNyd9ISj_tN"
      },
      "outputs": [],
      "source": [
        "y_pred_train = model.predict(X_train_scaled)\n",
        "y_pred_test = model.predict(X_test_scaled)"
      ]
    },
    {
      "cell_type": "code",
      "execution_count": null,
      "metadata": {
        "id": "BGIVRfIQkaZi"
      },
      "outputs": [],
      "source": [
        "mse_train = mean_squared_error(y_train, y_pred_train)\n",
        "mse_test = mean_squared_error(y_train, y_pred_train)\n"
      ]
    },
    {
      "cell_type": "code",
      "execution_count": null,
      "metadata": {
        "colab": {
          "base_uri": "https://localhost:8080/"
        },
        "id": "6cOTFX2dkyHf",
        "outputId": "df4bb204-3323-42ab-81f3-d1fa8d6f7693"
      },
      "outputs": [
        {
          "name": "stdout",
          "output_type": "stream",
          "text": [
            "Training Set Metrics:\n",
            "Mean Squared Error (MSE): 0.07076469854616008\n",
            "Root Mean Squared Error (RMSE): 0.2660163501481818\n",
            "\n",
            "Testing Set Metrics:\n",
            "Mean Squared Error (MSE): 0.07076469854616008\n",
            "Root Mean Squared Error (RMSE): 0.2660163501481818\n"
          ]
        }
      ],
      "source": [
        "print(\"Training Set Metrics:\")\n",
        "print(\"Mean Squared Error (MSE):\", mse_train)\n",
        "print(\"Root Mean Squared Error (RMSE):\", rmse_train)\n",
        "print(\"\\nTesting Set Metrics:\")\n",
        "print(\"Mean Squared Error (MSE):\", mse_test)\n",
        "print(\"Root Mean Squared Error (RMSE):\", rmse_test)"
      ]
    },
    {
      "cell_type": "code",
      "execution_count": null,
      "metadata": {
        "colab": {
          "base_uri": "https://localhost:8080/"
        },
        "id": "ebKTnc1ElU-9",
        "outputId": "81a85746-9847-488c-b451-3575a55d9c98"
      },
      "outputs": [
        {
          "name": "stdout",
          "output_type": "stream",
          "text": [
            "\n",
            "Predicted Stock Prices for Testing Set:\n",
            "[32.18903443 70.9802636  28.96212385 52.4457737  49.53962555 33.15423962\n",
            " 69.13355784 77.10976311 65.58653647 44.65391663 30.45531403 67.7033513\n",
            " 39.17014391 50.56558493 69.44760427 53.26307824 43.07024582 63.22968859\n",
            " 40.62386388 65.30716698 65.98018057 50.90399687 52.54200412 65.1609913\n",
            " 75.12188689 51.34313305 38.53274378 31.69444847 49.82930092 37.07365552\n",
            " 42.33251055 66.07288466 57.67953185 63.58445034 70.42467217 64.60905379\n",
            " 55.90606309 68.85738803 62.81827435 49.81932912 52.0101386  36.00137921\n",
            " 42.81907195 38.79336384 69.25160571 30.87715525 40.95436173 43.64823512\n",
            " 36.65544089 39.06628311 79.84334315 52.81703089 27.9852028  67.83588235\n",
            " 50.73786542 81.06455556 72.51175284 39.82318026 71.91390104 62.98760277\n",
            " 32.67290828 38.87368171 42.14715692 67.56350979 51.2246404  43.88752596\n",
            " 40.13302154 78.2110389  30.45302096 62.51640661 38.52277612 51.95908806\n",
            " 49.20251697 61.40410405 27.77451943 34.07396285 63.15247167 41.29055611\n",
            " 37.33958316 40.46335827 71.99681989 42.29594333 64.39834859 50.98617336\n",
            " 64.57915462 38.76738986 67.26670686 77.10087948 49.60213898 41.85197477\n",
            " 57.0489251  64.18439803 67.45069608 74.33912329 68.54081348 57.36474084\n",
            " 65.44216874 64.33675065 67.37257449 47.7632963 ]\n"
          ]
        }
      ],
      "source": [
        "print(\"\\nPredicted Stock Prices for Testing Set:\")\n",
        "print(y_pred_test[:100])"
      ]
    },
    {
      "cell_type": "code",
      "execution_count": null,
      "metadata": {
        "id": "oKF0WvemKA3x"
      },
      "outputs": [],
      "source": [
        "pipeline = Pipeline([\n",
        "    ('imputer', SimpleImputer(strategy='mean')),\n",
        "    ('scaler', StandardScaler()),\n",
        "    ('model', LinearRegression())\n",
        "])\n",
        "\n"
      ]
    },
    {
      "cell_type": "code",
      "execution_count": null,
      "metadata": {
        "id": "H3F81S68KeQ7"
      },
      "outputs": [],
      "source": [
        "pipeline.fit(X_train, y_train)\n",
        "predicted_prices = pipeline.predict(X_test)\n",
        "\n"
      ]
    },
    {
      "cell_type": "code",
      "execution_count": null,
      "metadata": {
        "colab": {
          "base_uri": "https://localhost:8080/"
        },
        "id": "79GOIJwqLao9",
        "outputId": "65d8d3fc-cff0-485a-836e-45c35f335a82"
      },
      "outputs": [
        {
          "name": "stdout",
          "output_type": "stream",
          "text": [
            "[32.18903443 70.9802636  28.96212385 52.4457737  49.53962555 33.15423962\n",
            " 69.13355784 77.10976311 65.58653647 44.65391663 30.45531403 67.7033513\n",
            " 39.17014391 50.56558493 69.44760427 53.26307824 43.07024582 63.22968859\n",
            " 40.62386388 65.30716698 65.98018057 50.90399687 52.54200412 65.1609913\n",
            " 75.12188689 51.34313305 38.53274378 31.69444847 49.82930092 37.07365552\n",
            " 42.33251055 66.07288466 57.67953185 63.58445034 70.42467217 64.60905379\n",
            " 55.90606309 68.85738803 62.81827435 49.81932912 52.0101386  36.00137921\n",
            " 42.81907195 38.79336384 69.25160571 30.87715525 40.95436173 43.64823512\n",
            " 36.65544089 39.06628311 79.84334315 52.81703089 27.9852028  67.83588235\n",
            " 50.73786542 81.06455556 72.51175284 39.82318026 71.91390104 62.98760277\n",
            " 32.67290828 38.87368171 42.14715692 67.56350979 51.2246404  43.88752596\n",
            " 40.13302154 78.2110389  30.45302096 62.51640661 38.52277612 51.95908806\n",
            " 49.20251697 61.40410405 27.77451943 34.07396285 63.15247167 41.29055611\n",
            " 37.33958316 40.46335827 71.99681989 42.29594333 64.39834859 50.98617336\n",
            " 64.57915462 38.76738986 67.26670686 77.10087948 49.60213898 41.85197477\n",
            " 57.0489251  64.18439803 67.45069608 74.33912329 68.54081348 57.36474084\n",
            " 65.44216874 64.33675065 67.37257449 47.7632963  28.79370744 67.19047528\n",
            " 38.62696281 32.25603252 32.43917603 56.13003863 80.20671133 39.76672621\n",
            " 32.12530877 32.46963102 35.03974715 40.49698203 59.17848638 32.25250444\n",
            " 39.76609772 32.33028376 39.3779398  43.90137831 80.40702571 38.53041104\n",
            " 39.53077736 68.82600007 56.05555422 31.88545698 51.36413542 69.52186206\n",
            " 66.12341808 31.35849049 69.45806952 34.04775707 34.64208351 79.39028787\n",
            " 81.44614103 58.59200842 34.23535218 71.45109672 68.28011472 51.75163829\n",
            " 74.82170172 39.27006981 69.3168133  76.78723485 72.93692725 69.62415156\n",
            " 71.44302816 48.14154533 55.35966006 39.24650634 46.08858422 49.85450319\n",
            " 48.18384837 37.01455638 76.08190404 29.01604175 50.13046213 57.20119311\n",
            " 29.29623171 33.78703339 53.47915661 52.86891734 34.70861207 70.75163079\n",
            " 63.78561198 53.26575197 39.43013387 50.55609607 38.97434495 59.68031117\n",
            " 63.64283694 35.49426646 71.51656815 70.61439623 71.60780359 50.80365468\n",
            " 65.39106293 77.58511352 55.9404808  71.28145699 67.87644116 67.13542297\n",
            " 62.02867937 33.23533149 37.38631106 67.09203828 51.33767144 75.71260742\n",
            " 67.63953963 63.94544148 63.9254087  49.51590305 76.66661667 71.62717003\n",
            " 70.50770723 37.23647908 41.36685083 51.68366651 42.64810114 31.2495584\n",
            " 30.97972475 51.87760861 77.40194485 70.59456323 38.02952328 37.5064876\n",
            " 37.61237937 69.35928652 46.83181585 54.01614116 67.83907789 37.52326344\n",
            " 36.46651143 62.74395515 53.4221284  52.14120019 66.42650838 30.43537946\n",
            " 38.20373196 67.66246442 73.27230962 41.99720224 41.66144038 41.89344669\n",
            " 82.00795363 32.28468249 30.01727597 50.83434517 74.04158617 67.2171218\n",
            " 71.1370286  70.43633817 58.67781255 36.56108356 31.04577493 70.46828279\n",
            " 63.83155745 48.76193286 46.22612574 37.34912902 66.63169775 32.63750637\n",
            " 35.54102958 73.11113537 50.36797654 32.1956247  47.57037499 43.49259203\n",
            " 39.61186365 41.27920125 32.27652756 32.58720814 41.48267926 50.98925088]\n"
          ]
        }
      ],
      "source": [
        "print(predicted_prices)"
      ]
    },
    {
      "cell_type": "code",
      "execution_count": null,
      "metadata": {
        "colab": {
          "base_uri": "https://localhost:8080/"
        },
        "id": "cVY-BMWvxA2S",
        "outputId": "fb959142-5afd-4749-ace1-93840d891ff0"
      },
      "outputs": [
        {
          "name": "stdout",
          "output_type": "stream",
          "text": [
            "Mean Absolute Error (MAE): 0.21234068775691717\n"
          ]
        }
      ],
      "source": [
        "score = mean_absolute_error(y_test, predicted_prices)\n",
        "print(f'Mean Absolute Error (MAE): {score}')"
      ]
    },
    {
      "cell_type": "code",
      "execution_count": null,
      "metadata": {
        "id": "LvQ5WXQpMvwq"
      },
      "outputs": [],
      "source": [
        "results_df = pd.DataFrame({\n",
        "    'Actual Prices': y_test,\n",
        "    'Predicted Prices': predicted_prices\n",
        "})"
      ]
    },
    {
      "cell_type": "code",
      "execution_count": null,
      "metadata": {
        "colab": {
          "base_uri": "https://localhost:8080/"
        },
        "id": "PmxkoCpVMxA9",
        "outputId": "8c98e6c2-7e45-4030-ff0b-d3eadafc4142"
      },
      "outputs": [
        {
          "name": "stdout",
          "output_type": "stream",
          "text": [
            "      Actual Prices  Predicted Prices\n",
            "76            32.15         32.189034\n",
            "1026          70.73         70.980264\n",
            "43            29.18         28.962124\n",
            "666           52.62         52.445774\n",
            "529           49.52         49.539626\n"
          ]
        }
      ],
      "source": [
        "print(results_df.head())"
      ]
    }
  ],
  "metadata": {
    "colab": {
      "provenance": [],
      "authorship_tag": "ABX9TyOQvXIMFNnxZo3I2T975uQT"
    },
    "kernelspec": {
      "display_name": "Python 3",
      "name": "python3"
    },
    "language_info": {
      "name": "python"
    }
  },
  "nbformat": 4,
  "nbformat_minor": 0
}